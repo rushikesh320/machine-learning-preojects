{
 "cells": [
  {
   "cell_type": "markdown",
   "metadata": {},
   "source": [
    "Demand forecasting for store (Seasonal ARIMAX Model)"
   ]
  },
  {
   "cell_type": "markdown",
   "metadata": {},
   "source": [
    "In this kernel we predicting how much Items will be sale for 3 months( Timeseries based problem)."
   ]
  },
  {
   "cell_type": "code",
   "execution_count": 72,
   "metadata": {},
   "outputs": [],
   "source": [
    "#import Library\n",
    "import pandas as pd\n",
    "import numpy as np\n",
    "import seaborn as sns\n",
    "import matplotlib.pyplot as plt\n",
    "pd.options.display.max_rows=999"
   ]
  },
  {
   "cell_type": "code",
   "execution_count": 2,
   "metadata": {},
   "outputs": [],
   "source": [
    "#read train data file\n",
    "data=pd.read_csv(r'C:\\Users\\RUSHI\\Desktop\\b daily practice\\project\\demand forecasting\\train.csv')"
   ]
  },
  {
   "cell_type": "code",
   "execution_count": 3,
   "metadata": {},
   "outputs": [
    {
     "data": {
      "text/html": [
       "<div>\n",
       "<style scoped>\n",
       "    .dataframe tbody tr th:only-of-type {\n",
       "        vertical-align: middle;\n",
       "    }\n",
       "\n",
       "    .dataframe tbody tr th {\n",
       "        vertical-align: top;\n",
       "    }\n",
       "\n",
       "    .dataframe thead th {\n",
       "        text-align: right;\n",
       "    }\n",
       "</style>\n",
       "<table border=\"1\" class=\"dataframe\">\n",
       "  <thead>\n",
       "    <tr style=\"text-align: right;\">\n",
       "      <th></th>\n",
       "      <th>date</th>\n",
       "      <th>store</th>\n",
       "      <th>item</th>\n",
       "      <th>sales</th>\n",
       "    </tr>\n",
       "  </thead>\n",
       "  <tbody>\n",
       "    <tr>\n",
       "      <td>0</td>\n",
       "      <td>2013-01-01</td>\n",
       "      <td>1</td>\n",
       "      <td>1</td>\n",
       "      <td>13</td>\n",
       "    </tr>\n",
       "    <tr>\n",
       "      <td>1</td>\n",
       "      <td>2013-01-02</td>\n",
       "      <td>1</td>\n",
       "      <td>1</td>\n",
       "      <td>11</td>\n",
       "    </tr>\n",
       "    <tr>\n",
       "      <td>2</td>\n",
       "      <td>2013-01-03</td>\n",
       "      <td>1</td>\n",
       "      <td>1</td>\n",
       "      <td>14</td>\n",
       "    </tr>\n",
       "    <tr>\n",
       "      <td>3</td>\n",
       "      <td>2013-01-04</td>\n",
       "      <td>1</td>\n",
       "      <td>1</td>\n",
       "      <td>13</td>\n",
       "    </tr>\n",
       "    <tr>\n",
       "      <td>4</td>\n",
       "      <td>2013-01-05</td>\n",
       "      <td>1</td>\n",
       "      <td>1</td>\n",
       "      <td>10</td>\n",
       "    </tr>\n",
       "  </tbody>\n",
       "</table>\n",
       "</div>"
      ],
      "text/plain": [
       "         date  store  item  sales\n",
       "0  2013-01-01      1     1     13\n",
       "1  2013-01-02      1     1     11\n",
       "2  2013-01-03      1     1     14\n",
       "3  2013-01-04      1     1     13\n",
       "4  2013-01-05      1     1     10"
      ]
     },
     "execution_count": 3,
     "metadata": {},
     "output_type": "execute_result"
    }
   ],
   "source": [
    "data.head()"
   ]
  },
  {
   "cell_type": "code",
   "execution_count": 4,
   "metadata": {},
   "outputs": [
    {
     "data": {
      "text/plain": [
       "date     0\n",
       "store    0\n",
       "item     0\n",
       "sales    0\n",
       "dtype: int64"
      ]
     },
     "execution_count": 4,
     "metadata": {},
     "output_type": "execute_result"
    }
   ],
   "source": [
    "data.isnull().sum()"
   ]
  },
  {
   "cell_type": "code",
   "execution_count": 5,
   "metadata": {},
   "outputs": [
    {
     "data": {
      "text/plain": [
       "(913000, 4)"
      ]
     },
     "execution_count": 5,
     "metadata": {},
     "output_type": "execute_result"
    }
   ],
   "source": [
    "data.shape"
   ]
  },
  {
   "cell_type": "code",
   "execution_count": 6,
   "metadata": {},
   "outputs": [
    {
     "data": {
      "text/html": [
       "<div>\n",
       "<style scoped>\n",
       "    .dataframe tbody tr th:only-of-type {\n",
       "        vertical-align: middle;\n",
       "    }\n",
       "\n",
       "    .dataframe tbody tr th {\n",
       "        vertical-align: top;\n",
       "    }\n",
       "\n",
       "    .dataframe thead th {\n",
       "        text-align: right;\n",
       "    }\n",
       "</style>\n",
       "<table border=\"1\" class=\"dataframe\">\n",
       "  <thead>\n",
       "    <tr style=\"text-align: right;\">\n",
       "      <th></th>\n",
       "      <th>store</th>\n",
       "      <th>item</th>\n",
       "      <th>sales</th>\n",
       "    </tr>\n",
       "  </thead>\n",
       "  <tbody>\n",
       "    <tr>\n",
       "      <td>count</td>\n",
       "      <td>913000.000000</td>\n",
       "      <td>913000.000000</td>\n",
       "      <td>913000.000000</td>\n",
       "    </tr>\n",
       "    <tr>\n",
       "      <td>mean</td>\n",
       "      <td>5.500000</td>\n",
       "      <td>25.500000</td>\n",
       "      <td>52.250287</td>\n",
       "    </tr>\n",
       "    <tr>\n",
       "      <td>std</td>\n",
       "      <td>2.872283</td>\n",
       "      <td>14.430878</td>\n",
       "      <td>28.801144</td>\n",
       "    </tr>\n",
       "    <tr>\n",
       "      <td>min</td>\n",
       "      <td>1.000000</td>\n",
       "      <td>1.000000</td>\n",
       "      <td>0.000000</td>\n",
       "    </tr>\n",
       "    <tr>\n",
       "      <td>25%</td>\n",
       "      <td>3.000000</td>\n",
       "      <td>13.000000</td>\n",
       "      <td>30.000000</td>\n",
       "    </tr>\n",
       "    <tr>\n",
       "      <td>50%</td>\n",
       "      <td>5.500000</td>\n",
       "      <td>25.500000</td>\n",
       "      <td>47.000000</td>\n",
       "    </tr>\n",
       "    <tr>\n",
       "      <td>75%</td>\n",
       "      <td>8.000000</td>\n",
       "      <td>38.000000</td>\n",
       "      <td>70.000000</td>\n",
       "    </tr>\n",
       "    <tr>\n",
       "      <td>max</td>\n",
       "      <td>10.000000</td>\n",
       "      <td>50.000000</td>\n",
       "      <td>231.000000</td>\n",
       "    </tr>\n",
       "  </tbody>\n",
       "</table>\n",
       "</div>"
      ],
      "text/plain": [
       "               store           item          sales\n",
       "count  913000.000000  913000.000000  913000.000000\n",
       "mean        5.500000      25.500000      52.250287\n",
       "std         2.872283      14.430878      28.801144\n",
       "min         1.000000       1.000000       0.000000\n",
       "25%         3.000000      13.000000      30.000000\n",
       "50%         5.500000      25.500000      47.000000\n",
       "75%         8.000000      38.000000      70.000000\n",
       "max        10.000000      50.000000     231.000000"
      ]
     },
     "execution_count": 6,
     "metadata": {},
     "output_type": "execute_result"
    }
   ],
   "source": [
    "data.describe()"
   ]
  },
  {
   "cell_type": "markdown",
   "metadata": {},
   "source": [
    "There are 10 stores(1 to 10) and 10 different Items(1-10)\n",
    "min 0 item sale for day and max 231 item sale for day ."
   ]
  },
  {
   "cell_type": "code",
   "execution_count": null,
   "metadata": {},
   "outputs": [],
   "source": []
  },
  {
   "cell_type": "code",
   "execution_count": null,
   "metadata": {},
   "outputs": [],
   "source": []
  },
  {
   "cell_type": "code",
   "execution_count": 7,
   "metadata": {},
   "outputs": [
    {
     "data": {
      "text/html": [
       "<div>\n",
       "<style scoped>\n",
       "    .dataframe tbody tr th:only-of-type {\n",
       "        vertical-align: middle;\n",
       "    }\n",
       "\n",
       "    .dataframe tbody tr th {\n",
       "        vertical-align: top;\n",
       "    }\n",
       "\n",
       "    .dataframe thead tr th {\n",
       "        text-align: left;\n",
       "    }\n",
       "\n",
       "    .dataframe thead tr:last-of-type th {\n",
       "        text-align: right;\n",
       "    }\n",
       "</style>\n",
       "<table border=\"1\" class=\"dataframe\">\n",
       "  <thead>\n",
       "    <tr>\n",
       "      <th>item</th>\n",
       "      <th colspan=\"10\" halign=\"left\">1</th>\n",
       "      <th>...</th>\n",
       "      <th colspan=\"10\" halign=\"left\">50</th>\n",
       "    </tr>\n",
       "    <tr>\n",
       "      <th>date</th>\n",
       "      <th>2013-01-01</th>\n",
       "      <th>2013-01-02</th>\n",
       "      <th>2013-01-03</th>\n",
       "      <th>2013-01-04</th>\n",
       "      <th>2013-01-05</th>\n",
       "      <th>2013-01-06</th>\n",
       "      <th>2013-01-07</th>\n",
       "      <th>2013-01-08</th>\n",
       "      <th>2013-01-09</th>\n",
       "      <th>2013-01-10</th>\n",
       "      <th>...</th>\n",
       "      <th>2017-12-22</th>\n",
       "      <th>2017-12-23</th>\n",
       "      <th>2017-12-24</th>\n",
       "      <th>2017-12-25</th>\n",
       "      <th>2017-12-26</th>\n",
       "      <th>2017-12-27</th>\n",
       "      <th>2017-12-28</th>\n",
       "      <th>2017-12-29</th>\n",
       "      <th>2017-12-30</th>\n",
       "      <th>2017-12-31</th>\n",
       "    </tr>\n",
       "    <tr>\n",
       "      <th>store</th>\n",
       "      <th></th>\n",
       "      <th></th>\n",
       "      <th></th>\n",
       "      <th></th>\n",
       "      <th></th>\n",
       "      <th></th>\n",
       "      <th></th>\n",
       "      <th></th>\n",
       "      <th></th>\n",
       "      <th></th>\n",
       "      <th></th>\n",
       "      <th></th>\n",
       "      <th></th>\n",
       "      <th></th>\n",
       "      <th></th>\n",
       "      <th></th>\n",
       "      <th></th>\n",
       "      <th></th>\n",
       "      <th></th>\n",
       "      <th></th>\n",
       "      <th></th>\n",
       "    </tr>\n",
       "  </thead>\n",
       "  <tbody>\n",
       "    <tr>\n",
       "      <td>1</td>\n",
       "      <td>13</td>\n",
       "      <td>11</td>\n",
       "      <td>14</td>\n",
       "      <td>13</td>\n",
       "      <td>10</td>\n",
       "      <td>12</td>\n",
       "      <td>10</td>\n",
       "      <td>9</td>\n",
       "      <td>12</td>\n",
       "      <td>9</td>\n",
       "      <td>...</td>\n",
       "      <td>59</td>\n",
       "      <td>53</td>\n",
       "      <td>67</td>\n",
       "      <td>35</td>\n",
       "      <td>42</td>\n",
       "      <td>38</td>\n",
       "      <td>52</td>\n",
       "      <td>59</td>\n",
       "      <td>66</td>\n",
       "      <td>45</td>\n",
       "    </tr>\n",
       "    <tr>\n",
       "      <td>2</td>\n",
       "      <td>12</td>\n",
       "      <td>16</td>\n",
       "      <td>16</td>\n",
       "      <td>20</td>\n",
       "      <td>16</td>\n",
       "      <td>18</td>\n",
       "      <td>12</td>\n",
       "      <td>11</td>\n",
       "      <td>16</td>\n",
       "      <td>10</td>\n",
       "      <td>...</td>\n",
       "      <td>81</td>\n",
       "      <td>90</td>\n",
       "      <td>89</td>\n",
       "      <td>58</td>\n",
       "      <td>50</td>\n",
       "      <td>79</td>\n",
       "      <td>68</td>\n",
       "      <td>67</td>\n",
       "      <td>79</td>\n",
       "      <td>73</td>\n",
       "    </tr>\n",
       "    <tr>\n",
       "      <td>3</td>\n",
       "      <td>19</td>\n",
       "      <td>8</td>\n",
       "      <td>10</td>\n",
       "      <td>15</td>\n",
       "      <td>22</td>\n",
       "      <td>22</td>\n",
       "      <td>7</td>\n",
       "      <td>15</td>\n",
       "      <td>9</td>\n",
       "      <td>7</td>\n",
       "      <td>...</td>\n",
       "      <td>56</td>\n",
       "      <td>66</td>\n",
       "      <td>87</td>\n",
       "      <td>54</td>\n",
       "      <td>70</td>\n",
       "      <td>52</td>\n",
       "      <td>75</td>\n",
       "      <td>68</td>\n",
       "      <td>62</td>\n",
       "      <td>77</td>\n",
       "    </tr>\n",
       "    <tr>\n",
       "      <td>4</td>\n",
       "      <td>10</td>\n",
       "      <td>12</td>\n",
       "      <td>8</td>\n",
       "      <td>15</td>\n",
       "      <td>19</td>\n",
       "      <td>14</td>\n",
       "      <td>12</td>\n",
       "      <td>16</td>\n",
       "      <td>18</td>\n",
       "      <td>16</td>\n",
       "      <td>...</td>\n",
       "      <td>65</td>\n",
       "      <td>63</td>\n",
       "      <td>68</td>\n",
       "      <td>42</td>\n",
       "      <td>46</td>\n",
       "      <td>48</td>\n",
       "      <td>58</td>\n",
       "      <td>56</td>\n",
       "      <td>66</td>\n",
       "      <td>81</td>\n",
       "    </tr>\n",
       "    <tr>\n",
       "      <td>5</td>\n",
       "      <td>11</td>\n",
       "      <td>9</td>\n",
       "      <td>12</td>\n",
       "      <td>8</td>\n",
       "      <td>13</td>\n",
       "      <td>15</td>\n",
       "      <td>6</td>\n",
       "      <td>11</td>\n",
       "      <td>13</td>\n",
       "      <td>9</td>\n",
       "      <td>...</td>\n",
       "      <td>40</td>\n",
       "      <td>35</td>\n",
       "      <td>62</td>\n",
       "      <td>33</td>\n",
       "      <td>38</td>\n",
       "      <td>35</td>\n",
       "      <td>39</td>\n",
       "      <td>37</td>\n",
       "      <td>60</td>\n",
       "      <td>36</td>\n",
       "    </tr>\n",
       "    <tr>\n",
       "      <td>6</td>\n",
       "      <td>20</td>\n",
       "      <td>6</td>\n",
       "      <td>11</td>\n",
       "      <td>7</td>\n",
       "      <td>12</td>\n",
       "      <td>9</td>\n",
       "      <td>11</td>\n",
       "      <td>9</td>\n",
       "      <td>13</td>\n",
       "      <td>9</td>\n",
       "      <td>...</td>\n",
       "      <td>41</td>\n",
       "      <td>52</td>\n",
       "      <td>50</td>\n",
       "      <td>47</td>\n",
       "      <td>46</td>\n",
       "      <td>47</td>\n",
       "      <td>49</td>\n",
       "      <td>43</td>\n",
       "      <td>41</td>\n",
       "      <td>45</td>\n",
       "    </tr>\n",
       "    <tr>\n",
       "      <td>7</td>\n",
       "      <td>7</td>\n",
       "      <td>4</td>\n",
       "      <td>8</td>\n",
       "      <td>7</td>\n",
       "      <td>8</td>\n",
       "      <td>10</td>\n",
       "      <td>6</td>\n",
       "      <td>6</td>\n",
       "      <td>3</td>\n",
       "      <td>7</td>\n",
       "      <td>...</td>\n",
       "      <td>32</td>\n",
       "      <td>47</td>\n",
       "      <td>34</td>\n",
       "      <td>27</td>\n",
       "      <td>37</td>\n",
       "      <td>33</td>\n",
       "      <td>41</td>\n",
       "      <td>44</td>\n",
       "      <td>44</td>\n",
       "      <td>46</td>\n",
       "    </tr>\n",
       "    <tr>\n",
       "      <td>8</td>\n",
       "      <td>16</td>\n",
       "      <td>10</td>\n",
       "      <td>12</td>\n",
       "      <td>21</td>\n",
       "      <td>15</td>\n",
       "      <td>27</td>\n",
       "      <td>9</td>\n",
       "      <td>10</td>\n",
       "      <td>11</td>\n",
       "      <td>14</td>\n",
       "      <td>...</td>\n",
       "      <td>69</td>\n",
       "      <td>77</td>\n",
       "      <td>81</td>\n",
       "      <td>45</td>\n",
       "      <td>55</td>\n",
       "      <td>64</td>\n",
       "      <td>73</td>\n",
       "      <td>80</td>\n",
       "      <td>70</td>\n",
       "      <td>76</td>\n",
       "    </tr>\n",
       "    <tr>\n",
       "      <td>9</td>\n",
       "      <td>11</td>\n",
       "      <td>9</td>\n",
       "      <td>20</td>\n",
       "      <td>22</td>\n",
       "      <td>22</td>\n",
       "      <td>11</td>\n",
       "      <td>7</td>\n",
       "      <td>13</td>\n",
       "      <td>9</td>\n",
       "      <td>5</td>\n",
       "      <td>...</td>\n",
       "      <td>67</td>\n",
       "      <td>64</td>\n",
       "      <td>66</td>\n",
       "      <td>30</td>\n",
       "      <td>54</td>\n",
       "      <td>52</td>\n",
       "      <td>73</td>\n",
       "      <td>68</td>\n",
       "      <td>62</td>\n",
       "      <td>65</td>\n",
       "    </tr>\n",
       "    <tr>\n",
       "      <td>10</td>\n",
       "      <td>14</td>\n",
       "      <td>14</td>\n",
       "      <td>16</td>\n",
       "      <td>17</td>\n",
       "      <td>12</td>\n",
       "      <td>11</td>\n",
       "      <td>12</td>\n",
       "      <td>19</td>\n",
       "      <td>10</td>\n",
       "      <td>17</td>\n",
       "      <td>...</td>\n",
       "      <td>75</td>\n",
       "      <td>70</td>\n",
       "      <td>76</td>\n",
       "      <td>51</td>\n",
       "      <td>41</td>\n",
       "      <td>63</td>\n",
       "      <td>59</td>\n",
       "      <td>74</td>\n",
       "      <td>62</td>\n",
       "      <td>82</td>\n",
       "    </tr>\n",
       "  </tbody>\n",
       "</table>\n",
       "<p>10 rows × 91300 columns</p>\n",
       "</div>"
      ],
      "text/plain": [
       "item          1                                                          \\\n",
       "date  2013-01-01 2013-01-02 2013-01-03 2013-01-04 2013-01-05 2013-01-06   \n",
       "store                                                                     \n",
       "1             13         11         14         13         10         12   \n",
       "2             12         16         16         20         16         18   \n",
       "3             19          8         10         15         22         22   \n",
       "4             10         12          8         15         19         14   \n",
       "5             11          9         12          8         13         15   \n",
       "6             20          6         11          7         12          9   \n",
       "7              7          4          8          7          8         10   \n",
       "8             16         10         12         21         15         27   \n",
       "9             11          9         20         22         22         11   \n",
       "10            14         14         16         17         12         11   \n",
       "\n",
       "item                                               ...         50             \\\n",
       "date  2013-01-07 2013-01-08 2013-01-09 2013-01-10  ... 2017-12-22 2017-12-23   \n",
       "store                                              ...                         \n",
       "1             10          9         12          9  ...         59         53   \n",
       "2             12         11         16         10  ...         81         90   \n",
       "3              7         15          9          7  ...         56         66   \n",
       "4             12         16         18         16  ...         65         63   \n",
       "5              6         11         13          9  ...         40         35   \n",
       "6             11          9         13          9  ...         41         52   \n",
       "7              6          6          3          7  ...         32         47   \n",
       "8              9         10         11         14  ...         69         77   \n",
       "9              7         13          9          5  ...         67         64   \n",
       "10            12         19         10         17  ...         75         70   \n",
       "\n",
       "item                                                                     \\\n",
       "date  2017-12-24 2017-12-25 2017-12-26 2017-12-27 2017-12-28 2017-12-29   \n",
       "store                                                                     \n",
       "1             67         35         42         38         52         59   \n",
       "2             89         58         50         79         68         67   \n",
       "3             87         54         70         52         75         68   \n",
       "4             68         42         46         48         58         56   \n",
       "5             62         33         38         35         39         37   \n",
       "6             50         47         46         47         49         43   \n",
       "7             34         27         37         33         41         44   \n",
       "8             81         45         55         64         73         80   \n",
       "9             66         30         54         52         73         68   \n",
       "10            76         51         41         63         59         74   \n",
       "\n",
       "item                         \n",
       "date  2017-12-30 2017-12-31  \n",
       "store                        \n",
       "1             66         45  \n",
       "2             79         73  \n",
       "3             62         77  \n",
       "4             66         81  \n",
       "5             60         36  \n",
       "6             41         45  \n",
       "7             44         46  \n",
       "8             70         76  \n",
       "9             62         65  \n",
       "10            62         82  \n",
       "\n",
       "[10 rows x 91300 columns]"
      ]
     },
     "execution_count": 7,
     "metadata": {},
     "output_type": "execute_result"
    }
   ],
   "source": [
    "#store vs Item Vs Date\n",
    "dftr_sid=pd.pivot_table(data,index=['store'],columns=['item','date'],values='sales')\n",
    "dftr_sid.head(10)"
   ]
  },
  {
   "cell_type": "code",
   "execution_count": 8,
   "metadata": {},
   "outputs": [
    {
     "data": {
      "text/html": [
       "<div>\n",
       "<style scoped>\n",
       "    .dataframe tbody tr th:only-of-type {\n",
       "        vertical-align: middle;\n",
       "    }\n",
       "\n",
       "    .dataframe tbody tr th {\n",
       "        vertical-align: top;\n",
       "    }\n",
       "\n",
       "    .dataframe thead tr th {\n",
       "        text-align: left;\n",
       "    }\n",
       "\n",
       "    .dataframe thead tr:last-of-type th {\n",
       "        text-align: right;\n",
       "    }\n",
       "</style>\n",
       "<table border=\"1\" class=\"dataframe\">\n",
       "  <thead>\n",
       "    <tr>\n",
       "      <th>date</th>\n",
       "      <th colspan=\"10\" halign=\"left\">2013-01-01</th>\n",
       "      <th>...</th>\n",
       "      <th colspan=\"10\" halign=\"left\">2017-12-31</th>\n",
       "    </tr>\n",
       "    <tr>\n",
       "      <th>item</th>\n",
       "      <th>1</th>\n",
       "      <th>2</th>\n",
       "      <th>3</th>\n",
       "      <th>4</th>\n",
       "      <th>5</th>\n",
       "      <th>6</th>\n",
       "      <th>7</th>\n",
       "      <th>8</th>\n",
       "      <th>9</th>\n",
       "      <th>10</th>\n",
       "      <th>...</th>\n",
       "      <th>41</th>\n",
       "      <th>42</th>\n",
       "      <th>43</th>\n",
       "      <th>44</th>\n",
       "      <th>45</th>\n",
       "      <th>46</th>\n",
       "      <th>47</th>\n",
       "      <th>48</th>\n",
       "      <th>49</th>\n",
       "      <th>50</th>\n",
       "    </tr>\n",
       "    <tr>\n",
       "      <th>store</th>\n",
       "      <th></th>\n",
       "      <th></th>\n",
       "      <th></th>\n",
       "      <th></th>\n",
       "      <th></th>\n",
       "      <th></th>\n",
       "      <th></th>\n",
       "      <th></th>\n",
       "      <th></th>\n",
       "      <th></th>\n",
       "      <th></th>\n",
       "      <th></th>\n",
       "      <th></th>\n",
       "      <th></th>\n",
       "      <th></th>\n",
       "      <th></th>\n",
       "      <th></th>\n",
       "      <th></th>\n",
       "      <th></th>\n",
       "      <th></th>\n",
       "      <th></th>\n",
       "    </tr>\n",
       "  </thead>\n",
       "  <tbody>\n",
       "    <tr>\n",
       "      <td>1</td>\n",
       "      <td>13</td>\n",
       "      <td>33</td>\n",
       "      <td>15</td>\n",
       "      <td>10</td>\n",
       "      <td>11</td>\n",
       "      <td>31</td>\n",
       "      <td>25</td>\n",
       "      <td>33</td>\n",
       "      <td>18</td>\n",
       "      <td>37</td>\n",
       "      <td>...</td>\n",
       "      <td>25</td>\n",
       "      <td>27</td>\n",
       "      <td>41</td>\n",
       "      <td>25</td>\n",
       "      <td>73</td>\n",
       "      <td>52</td>\n",
       "      <td>12</td>\n",
       "      <td>47</td>\n",
       "      <td>21</td>\n",
       "      <td>45</td>\n",
       "    </tr>\n",
       "    <tr>\n",
       "      <td>2</td>\n",
       "      <td>12</td>\n",
       "      <td>41</td>\n",
       "      <td>19</td>\n",
       "      <td>21</td>\n",
       "      <td>4</td>\n",
       "      <td>34</td>\n",
       "      <td>39</td>\n",
       "      <td>49</td>\n",
       "      <td>28</td>\n",
       "      <td>51</td>\n",
       "      <td>...</td>\n",
       "      <td>32</td>\n",
       "      <td>51</td>\n",
       "      <td>62</td>\n",
       "      <td>24</td>\n",
       "      <td>115</td>\n",
       "      <td>77</td>\n",
       "      <td>24</td>\n",
       "      <td>64</td>\n",
       "      <td>44</td>\n",
       "      <td>73</td>\n",
       "    </tr>\n",
       "    <tr>\n",
       "      <td>3</td>\n",
       "      <td>19</td>\n",
       "      <td>43</td>\n",
       "      <td>26</td>\n",
       "      <td>9</td>\n",
       "      <td>13</td>\n",
       "      <td>34</td>\n",
       "      <td>40</td>\n",
       "      <td>54</td>\n",
       "      <td>28</td>\n",
       "      <td>38</td>\n",
       "      <td>...</td>\n",
       "      <td>29</td>\n",
       "      <td>37</td>\n",
       "      <td>46</td>\n",
       "      <td>37</td>\n",
       "      <td>103</td>\n",
       "      <td>71</td>\n",
       "      <td>26</td>\n",
       "      <td>59</td>\n",
       "      <td>25</td>\n",
       "      <td>77</td>\n",
       "    </tr>\n",
       "    <tr>\n",
       "      <td>4</td>\n",
       "      <td>10</td>\n",
       "      <td>30</td>\n",
       "      <td>17</td>\n",
       "      <td>13</td>\n",
       "      <td>10</td>\n",
       "      <td>24</td>\n",
       "      <td>26</td>\n",
       "      <td>34</td>\n",
       "      <td>19</td>\n",
       "      <td>30</td>\n",
       "      <td>...</td>\n",
       "      <td>29</td>\n",
       "      <td>48</td>\n",
       "      <td>56</td>\n",
       "      <td>37</td>\n",
       "      <td>68</td>\n",
       "      <td>63</td>\n",
       "      <td>25</td>\n",
       "      <td>42</td>\n",
       "      <td>30</td>\n",
       "      <td>81</td>\n",
       "    </tr>\n",
       "    <tr>\n",
       "      <td>5</td>\n",
       "      <td>11</td>\n",
       "      <td>26</td>\n",
       "      <td>14</td>\n",
       "      <td>4</td>\n",
       "      <td>9</td>\n",
       "      <td>20</td>\n",
       "      <td>21</td>\n",
       "      <td>30</td>\n",
       "      <td>21</td>\n",
       "      <td>31</td>\n",
       "      <td>...</td>\n",
       "      <td>14</td>\n",
       "      <td>23</td>\n",
       "      <td>31</td>\n",
       "      <td>22</td>\n",
       "      <td>61</td>\n",
       "      <td>35</td>\n",
       "      <td>18</td>\n",
       "      <td>46</td>\n",
       "      <td>21</td>\n",
       "      <td>36</td>\n",
       "    </tr>\n",
       "    <tr>\n",
       "      <td>6</td>\n",
       "      <td>20</td>\n",
       "      <td>27</td>\n",
       "      <td>13</td>\n",
       "      <td>7</td>\n",
       "      <td>4</td>\n",
       "      <td>27</td>\n",
       "      <td>14</td>\n",
       "      <td>43</td>\n",
       "      <td>25</td>\n",
       "      <td>29</td>\n",
       "      <td>...</td>\n",
       "      <td>20</td>\n",
       "      <td>28</td>\n",
       "      <td>38</td>\n",
       "      <td>24</td>\n",
       "      <td>58</td>\n",
       "      <td>50</td>\n",
       "      <td>20</td>\n",
       "      <td>32</td>\n",
       "      <td>21</td>\n",
       "      <td>45</td>\n",
       "    </tr>\n",
       "    <tr>\n",
       "      <td>7</td>\n",
       "      <td>7</td>\n",
       "      <td>21</td>\n",
       "      <td>9</td>\n",
       "      <td>6</td>\n",
       "      <td>5</td>\n",
       "      <td>21</td>\n",
       "      <td>21</td>\n",
       "      <td>29</td>\n",
       "      <td>27</td>\n",
       "      <td>25</td>\n",
       "      <td>...</td>\n",
       "      <td>19</td>\n",
       "      <td>26</td>\n",
       "      <td>30</td>\n",
       "      <td>23</td>\n",
       "      <td>58</td>\n",
       "      <td>35</td>\n",
       "      <td>12</td>\n",
       "      <td>34</td>\n",
       "      <td>12</td>\n",
       "      <td>46</td>\n",
       "    </tr>\n",
       "    <tr>\n",
       "      <td>8</td>\n",
       "      <td>16</td>\n",
       "      <td>39</td>\n",
       "      <td>21</td>\n",
       "      <td>13</td>\n",
       "      <td>10</td>\n",
       "      <td>36</td>\n",
       "      <td>30</td>\n",
       "      <td>50</td>\n",
       "      <td>29</td>\n",
       "      <td>47</td>\n",
       "      <td>...</td>\n",
       "      <td>34</td>\n",
       "      <td>42</td>\n",
       "      <td>66</td>\n",
       "      <td>38</td>\n",
       "      <td>92</td>\n",
       "      <td>79</td>\n",
       "      <td>23</td>\n",
       "      <td>64</td>\n",
       "      <td>40</td>\n",
       "      <td>76</td>\n",
       "    </tr>\n",
       "    <tr>\n",
       "      <td>9</td>\n",
       "      <td>11</td>\n",
       "      <td>31</td>\n",
       "      <td>20</td>\n",
       "      <td>10</td>\n",
       "      <td>9</td>\n",
       "      <td>29</td>\n",
       "      <td>30</td>\n",
       "      <td>45</td>\n",
       "      <td>27</td>\n",
       "      <td>45</td>\n",
       "      <td>...</td>\n",
       "      <td>22</td>\n",
       "      <td>49</td>\n",
       "      <td>61</td>\n",
       "      <td>29</td>\n",
       "      <td>88</td>\n",
       "      <td>73</td>\n",
       "      <td>29</td>\n",
       "      <td>46</td>\n",
       "      <td>29</td>\n",
       "      <td>65</td>\n",
       "    </tr>\n",
       "    <tr>\n",
       "      <td>10</td>\n",
       "      <td>14</td>\n",
       "      <td>36</td>\n",
       "      <td>18</td>\n",
       "      <td>9</td>\n",
       "      <td>8</td>\n",
       "      <td>32</td>\n",
       "      <td>32</td>\n",
       "      <td>49</td>\n",
       "      <td>23</td>\n",
       "      <td>45</td>\n",
       "      <td>...</td>\n",
       "      <td>22</td>\n",
       "      <td>33</td>\n",
       "      <td>56</td>\n",
       "      <td>40</td>\n",
       "      <td>89</td>\n",
       "      <td>70</td>\n",
       "      <td>22</td>\n",
       "      <td>60</td>\n",
       "      <td>42</td>\n",
       "      <td>82</td>\n",
       "    </tr>\n",
       "  </tbody>\n",
       "</table>\n",
       "<p>10 rows × 91300 columns</p>\n",
       "</div>"
      ],
      "text/plain": [
       "date  2013-01-01                                      ... 2017-12-31          \\\n",
       "item          1   2   3   4   5   6   7   8   9   10  ...         41  42  43   \n",
       "store                                                 ...                      \n",
       "1             13  33  15  10  11  31  25  33  18  37  ...         25  27  41   \n",
       "2             12  41  19  21   4  34  39  49  28  51  ...         32  51  62   \n",
       "3             19  43  26   9  13  34  40  54  28  38  ...         29  37  46   \n",
       "4             10  30  17  13  10  24  26  34  19  30  ...         29  48  56   \n",
       "5             11  26  14   4   9  20  21  30  21  31  ...         14  23  31   \n",
       "6             20  27  13   7   4  27  14  43  25  29  ...         20  28  38   \n",
       "7              7  21   9   6   5  21  21  29  27  25  ...         19  26  30   \n",
       "8             16  39  21  13  10  36  30  50  29  47  ...         34  42  66   \n",
       "9             11  31  20  10   9  29  30  45  27  45  ...         22  49  61   \n",
       "10            14  36  18   9   8  32  32  49  23  45  ...         22  33  56   \n",
       "\n",
       "date                                \n",
       "item   44   45  46  47  48  49  50  \n",
       "store                               \n",
       "1      25   73  52  12  47  21  45  \n",
       "2      24  115  77  24  64  44  73  \n",
       "3      37  103  71  26  59  25  77  \n",
       "4      37   68  63  25  42  30  81  \n",
       "5      22   61  35  18  46  21  36  \n",
       "6      24   58  50  20  32  21  45  \n",
       "7      23   58  35  12  34  12  46  \n",
       "8      38   92  79  23  64  40  76  \n",
       "9      29   88  73  29  46  29  65  \n",
       "10     40   89  70  22  60  42  82  \n",
       "\n",
       "[10 rows x 91300 columns]"
      ]
     },
     "execution_count": 8,
     "metadata": {},
     "output_type": "execute_result"
    }
   ],
   "source": [
    "#store vs date vs item\n",
    "dftr_sid1=pd.pivot_table(data,index=['store'],columns=['date','item'],values='sales')\n",
    "dftr_sid1.head(10)"
   ]
  },
  {
   "cell_type": "code",
   "execution_count": null,
   "metadata": {},
   "outputs": [],
   "source": []
  },
  {
   "cell_type": "code",
   "execution_count": 9,
   "metadata": {},
   "outputs": [
    {
     "data": {
      "text/plain": [
       "<matplotlib.axes._subplots.AxesSubplot at 0x2184af86388>"
      ]
     },
     "execution_count": 9,
     "metadata": {},
     "output_type": "execute_result"
    },
    {
     "data": {
      "image/png": "[encoded data removed]",
      "text/plain": [
       "<Figure size 432x288 with 1 Axes>"
      ]
     },
     "metadata": {
      "needs_background": "light"
     },
     "output_type": "display_data"
    }
   ],
   "source": [
    "#storewise sale \n",
    "sd=data.groupby(['store']).sales.sum()\n",
    "sd.plot(kind='bar',legend=\"Sum\")"
   ]
  },
  {
   "cell_type": "markdown",
   "metadata": {},
   "source": [
    "Store no 2 and 8 have maximum sale of items where store 7 has min sale"
   ]
  },
  {
   "cell_type": "code",
   "execution_count": 10,
   "metadata": {},
   "outputs": [
    {
     "data": {
      "text/plain": [
       "<matplotlib.axes._subplots.AxesSubplot at 0x21851dfdf48>"
      ]
     },
     "execution_count": 10,
     "metadata": {},
     "output_type": "execute_result"
    },
    {
     "data": {
      "image/png": "[encoded data removed]",
      "text/plain": [
       "<Figure size 432x288 with 1 Axes>"
      ]
     },
     "metadata": {
      "needs_background": "light"
     },
     "output_type": "display_data"
    }
   ],
   "source": [
    "#storewise Average sale \n",
    "sd=data.groupby(['store']).sales.mean()\n",
    "sd.plot(kind='bar')"
   ]
  },
  {
   "cell_type": "code",
   "execution_count": null,
   "metadata": {},
   "outputs": [],
   "source": []
  },
  {
   "cell_type": "code",
   "execution_count": 12,
   "metadata": {},
   "outputs": [
    {
     "data": {
      "text/plain": [
       "<matplotlib.axes._subplots.AxesSubplot at 0x21851ffb708>"
      ]
     },
     "execution_count": 12,
     "metadata": {},
     "output_type": "execute_result"
    },
    {
     "data": {
      "image/png": "[encoded data removed]",
      "text/plain": [
       "<Figure size 864x576 with 1 Axes>"
      ]
     },
     "metadata": {
      "needs_background": "light"
     },
     "output_type": "display_data"
    }
   ],
   "source": [
    "#itemwise Sales\n",
    "ids=data.groupby(['item']).sales.sum()\n",
    "plt.figure(figsize=(12,8))\n",
    "ids.plot(kind='bar')"
   ]
  },
  {
   "cell_type": "markdown",
   "metadata": {},
   "source": [
    "item category 16 and 28 sale mostly and item 5 sale very rarely"
   ]
  },
  {
   "cell_type": "code",
   "execution_count": null,
   "metadata": {},
   "outputs": [],
   "source": []
  },
  {
   "cell_type": "code",
   "execution_count": 13,
   "metadata": {},
   "outputs": [
    {
     "data": {
      "text/plain": [
       "<matplotlib.axes._subplots.AxesSubplot at 0x2184f640a48>"
      ]
     },
     "execution_count": 13,
     "metadata": {},
     "output_type": "execute_result"
    },
    {
     "data": {
      "image/png": "[encoded data removed]",
      "text/plain": [
       "<Figure size 864x576 with 1 Axes>"
      ]
     },
     "metadata": {
      "needs_background": "light"
     },
     "output_type": "display_data"
    }
   ],
   "source": [
    "plt.figure(figsize=(12,8))\n",
    "sns.lineplot(x=\"date\", y=\"sales\",legend = 'full' , data=data)"
   ]
  },
  {
   "cell_type": "code",
   "execution_count": null,
   "metadata": {},
   "outputs": [],
   "source": []
  },
  {
   "cell_type": "code",
   "execution_count": 14,
   "metadata": {},
   "outputs": [],
   "source": [
    "#split date into day,month,week and year\n",
    "data['date']=pd.to_datetime(data['date'])\n",
    "data['year']=data['date'].dt.year\n",
    "data['month']=data['date'].dt.month\n",
    "data['day']=data['date'].dt.dayofyear\n",
    "data['weekday']=data['date'].dt.weekday"
   ]
  },
  {
   "cell_type": "code",
   "execution_count": 15,
   "metadata": {},
   "outputs": [
    {
     "data": {
      "text/html": [
       "<div>\n",
       "<style scoped>\n",
       "    .dataframe tbody tr th:only-of-type {\n",
       "        vertical-align: middle;\n",
       "    }\n",
       "\n",
       "    .dataframe tbody tr th {\n",
       "        vertical-align: top;\n",
       "    }\n",
       "\n",
       "    .dataframe thead th {\n",
       "        text-align: right;\n",
       "    }\n",
       "</style>\n",
       "<table border=\"1\" class=\"dataframe\">\n",
       "  <thead>\n",
       "    <tr style=\"text-align: right;\">\n",
       "      <th></th>\n",
       "      <th>date</th>\n",
       "      <th>store</th>\n",
       "      <th>item</th>\n",
       "      <th>sales</th>\n",
       "      <th>year</th>\n",
       "      <th>month</th>\n",
       "      <th>day</th>\n",
       "      <th>weekday</th>\n",
       "    </tr>\n",
       "  </thead>\n",
       "  <tbody>\n",
       "    <tr>\n",
       "      <td>0</td>\n",
       "      <td>2013-01-01</td>\n",
       "      <td>1</td>\n",
       "      <td>1</td>\n",
       "      <td>13</td>\n",
       "      <td>2013</td>\n",
       "      <td>1</td>\n",
       "      <td>1</td>\n",
       "      <td>1</td>\n",
       "    </tr>\n",
       "    <tr>\n",
       "      <td>1</td>\n",
       "      <td>2013-01-02</td>\n",
       "      <td>1</td>\n",
       "      <td>1</td>\n",
       "      <td>11</td>\n",
       "      <td>2013</td>\n",
       "      <td>1</td>\n",
       "      <td>2</td>\n",
       "      <td>2</td>\n",
       "    </tr>\n",
       "    <tr>\n",
       "      <td>2</td>\n",
       "      <td>2013-01-03</td>\n",
       "      <td>1</td>\n",
       "      <td>1</td>\n",
       "      <td>14</td>\n",
       "      <td>2013</td>\n",
       "      <td>1</td>\n",
       "      <td>3</td>\n",
       "      <td>3</td>\n",
       "    </tr>\n",
       "    <tr>\n",
       "      <td>3</td>\n",
       "      <td>2013-01-04</td>\n",
       "      <td>1</td>\n",
       "      <td>1</td>\n",
       "      <td>13</td>\n",
       "      <td>2013</td>\n",
       "      <td>1</td>\n",
       "      <td>4</td>\n",
       "      <td>4</td>\n",
       "    </tr>\n",
       "    <tr>\n",
       "      <td>4</td>\n",
       "      <td>2013-01-05</td>\n",
       "      <td>1</td>\n",
       "      <td>1</td>\n",
       "      <td>10</td>\n",
       "      <td>2013</td>\n",
       "      <td>1</td>\n",
       "      <td>5</td>\n",
       "      <td>5</td>\n",
       "    </tr>\n",
       "  </tbody>\n",
       "</table>\n",
       "</div>"
      ],
      "text/plain": [
       "        date  store  item  sales  year  month  day  weekday\n",
       "0 2013-01-01      1     1     13  2013      1    1        1\n",
       "1 2013-01-02      1     1     11  2013      1    2        2\n",
       "2 2013-01-03      1     1     14  2013      1    3        3\n",
       "3 2013-01-04      1     1     13  2013      1    4        4\n",
       "4 2013-01-05      1     1     10  2013      1    5        5"
      ]
     },
     "execution_count": 15,
     "metadata": {},
     "output_type": "execute_result"
    }
   ],
   "source": [
    "data.head()"
   ]
  },
  {
   "cell_type": "code",
   "execution_count": null,
   "metadata": {},
   "outputs": [],
   "source": []
  },
  {
   "cell_type": "code",
   "execution_count": 16,
   "metadata": {},
   "outputs": [
    {
     "data": {
      "text/plain": [
       "<matplotlib.axes._subplots.AxesSubplot at 0x2185858c7c8>"
      ]
     },
     "execution_count": 16,
     "metadata": {},
     "output_type": "execute_result"
    },
    {
     "data": {
      "image/png": "[encoded data removed]",
      "text/plain": [
       "<Figure size 432x288 with 1 Axes>"
      ]
     },
     "metadata": {
      "needs_background": "light"
     },
     "output_type": "display_data"
    }
   ],
   "source": [
    "sns.boxplot(x=\"weekday\",y=\"sales\",data=data[:56])#check for 2 month data 0-monday....6-sunday"
   ]
  },
  {
   "cell_type": "markdown",
   "metadata": {},
   "source": [
    "maximum sale of items on saturday "
   ]
  },
  {
   "cell_type": "code",
   "execution_count": null,
   "metadata": {},
   "outputs": [],
   "source": []
  },
  {
   "cell_type": "code",
   "execution_count": 17,
   "metadata": {},
   "outputs": [
    {
     "data": {
      "text/html": [
       "<div>\n",
       "<style scoped>\n",
       "    .dataframe tbody tr th:only-of-type {\n",
       "        vertical-align: middle;\n",
       "    }\n",
       "\n",
       "    .dataframe tbody tr th {\n",
       "        vertical-align: top;\n",
       "    }\n",
       "\n",
       "    .dataframe thead th {\n",
       "        text-align: right;\n",
       "    }\n",
       "</style>\n",
       "<table border=\"1\" class=\"dataframe\">\n",
       "  <thead>\n",
       "    <tr style=\"text-align: right;\">\n",
       "      <th></th>\n",
       "      <th>date</th>\n",
       "      <th>store</th>\n",
       "      <th>item</th>\n",
       "      <th>sales</th>\n",
       "      <th>year</th>\n",
       "      <th>month</th>\n",
       "      <th>day</th>\n",
       "      <th>weekday</th>\n",
       "    </tr>\n",
       "  </thead>\n",
       "  <tbody>\n",
       "    <tr>\n",
       "      <td>0</td>\n",
       "      <td>2013-01-01</td>\n",
       "      <td>1</td>\n",
       "      <td>1</td>\n",
       "      <td>13</td>\n",
       "      <td>2013</td>\n",
       "      <td>1</td>\n",
       "      <td>1</td>\n",
       "      <td>1</td>\n",
       "    </tr>\n",
       "    <tr>\n",
       "      <td>1</td>\n",
       "      <td>2013-01-02</td>\n",
       "      <td>1</td>\n",
       "      <td>1</td>\n",
       "      <td>11</td>\n",
       "      <td>2013</td>\n",
       "      <td>1</td>\n",
       "      <td>2</td>\n",
       "      <td>2</td>\n",
       "    </tr>\n",
       "    <tr>\n",
       "      <td>2</td>\n",
       "      <td>2013-01-03</td>\n",
       "      <td>1</td>\n",
       "      <td>1</td>\n",
       "      <td>14</td>\n",
       "      <td>2013</td>\n",
       "      <td>1</td>\n",
       "      <td>3</td>\n",
       "      <td>3</td>\n",
       "    </tr>\n",
       "    <tr>\n",
       "      <td>3</td>\n",
       "      <td>2013-01-04</td>\n",
       "      <td>1</td>\n",
       "      <td>1</td>\n",
       "      <td>13</td>\n",
       "      <td>2013</td>\n",
       "      <td>1</td>\n",
       "      <td>4</td>\n",
       "      <td>4</td>\n",
       "    </tr>\n",
       "    <tr>\n",
       "      <td>4</td>\n",
       "      <td>2013-01-05</td>\n",
       "      <td>1</td>\n",
       "      <td>1</td>\n",
       "      <td>10</td>\n",
       "      <td>2013</td>\n",
       "      <td>1</td>\n",
       "      <td>5</td>\n",
       "      <td>5</td>\n",
       "    </tr>\n",
       "  </tbody>\n",
       "</table>\n",
       "</div>"
      ],
      "text/plain": [
       "        date  store  item  sales  year  month  day  weekday\n",
       "0 2013-01-01      1     1     13  2013      1    1        1\n",
       "1 2013-01-02      1     1     11  2013      1    2        2\n",
       "2 2013-01-03      1     1     14  2013      1    3        3\n",
       "3 2013-01-04      1     1     13  2013      1    4        4\n",
       "4 2013-01-05      1     1     10  2013      1    5        5"
      ]
     },
     "execution_count": 17,
     "metadata": {},
     "output_type": "execute_result"
    }
   ],
   "source": [
    "data.head()"
   ]
  },
  {
   "cell_type": "code",
   "execution_count": 19,
   "metadata": {},
   "outputs": [],
   "source": [
    "#covnvert to date time format(datatype)\n",
    "data['date']=pd.to_datetime(data['date'])"
   ]
  },
  {
   "cell_type": "code",
   "execution_count": 20,
   "metadata": {},
   "outputs": [],
   "source": [
    "data.set_index('date',inplace=True)"
   ]
  },
  {
   "cell_type": "code",
   "execution_count": 21,
   "metadata": {},
   "outputs": [
    {
     "data": {
      "text/html": [
       "<div>\n",
       "<style scoped>\n",
       "    .dataframe tbody tr th:only-of-type {\n",
       "        vertical-align: middle;\n",
       "    }\n",
       "\n",
       "    .dataframe tbody tr th {\n",
       "        vertical-align: top;\n",
       "    }\n",
       "\n",
       "    .dataframe thead th {\n",
       "        text-align: right;\n",
       "    }\n",
       "</style>\n",
       "<table border=\"1\" class=\"dataframe\">\n",
       "  <thead>\n",
       "    <tr style=\"text-align: right;\">\n",
       "      <th></th>\n",
       "      <th>store</th>\n",
       "      <th>item</th>\n",
       "      <th>sales</th>\n",
       "      <th>year</th>\n",
       "      <th>month</th>\n",
       "      <th>day</th>\n",
       "      <th>weekday</th>\n",
       "    </tr>\n",
       "    <tr>\n",
       "      <th>date</th>\n",
       "      <th></th>\n",
       "      <th></th>\n",
       "      <th></th>\n",
       "      <th></th>\n",
       "      <th></th>\n",
       "      <th></th>\n",
       "      <th></th>\n",
       "    </tr>\n",
       "  </thead>\n",
       "  <tbody>\n",
       "    <tr>\n",
       "      <td>2013-01-01</td>\n",
       "      <td>1</td>\n",
       "      <td>1</td>\n",
       "      <td>13</td>\n",
       "      <td>2013</td>\n",
       "      <td>1</td>\n",
       "      <td>1</td>\n",
       "      <td>1</td>\n",
       "    </tr>\n",
       "    <tr>\n",
       "      <td>2013-01-02</td>\n",
       "      <td>1</td>\n",
       "      <td>1</td>\n",
       "      <td>11</td>\n",
       "      <td>2013</td>\n",
       "      <td>1</td>\n",
       "      <td>2</td>\n",
       "      <td>2</td>\n",
       "    </tr>\n",
       "    <tr>\n",
       "      <td>2013-01-03</td>\n",
       "      <td>1</td>\n",
       "      <td>1</td>\n",
       "      <td>14</td>\n",
       "      <td>2013</td>\n",
       "      <td>1</td>\n",
       "      <td>3</td>\n",
       "      <td>3</td>\n",
       "    </tr>\n",
       "    <tr>\n",
       "      <td>2013-01-04</td>\n",
       "      <td>1</td>\n",
       "      <td>1</td>\n",
       "      <td>13</td>\n",
       "      <td>2013</td>\n",
       "      <td>1</td>\n",
       "      <td>4</td>\n",
       "      <td>4</td>\n",
       "    </tr>\n",
       "    <tr>\n",
       "      <td>2013-01-05</td>\n",
       "      <td>1</td>\n",
       "      <td>1</td>\n",
       "      <td>10</td>\n",
       "      <td>2013</td>\n",
       "      <td>1</td>\n",
       "      <td>5</td>\n",
       "      <td>5</td>\n",
       "    </tr>\n",
       "  </tbody>\n",
       "</table>\n",
       "</div>"
      ],
      "text/plain": [
       "            store  item  sales  year  month  day  weekday\n",
       "date                                                     \n",
       "2013-01-01      1     1     13  2013      1    1        1\n",
       "2013-01-02      1     1     11  2013      1    2        2\n",
       "2013-01-03      1     1     14  2013      1    3        3\n",
       "2013-01-04      1     1     13  2013      1    4        4\n",
       "2013-01-05      1     1     10  2013      1    5        5"
      ]
     },
     "execution_count": 21,
     "metadata": {},
     "output_type": "execute_result"
    }
   ],
   "source": [
    "data.head()"
   ]
  },
  {
   "cell_type": "code",
   "execution_count": 22,
   "metadata": {},
   "outputs": [
    {
     "data": {
      "text/plain": [
       "<matplotlib.axes._subplots.AxesSubplot at 0x2185463abc8>"
      ]
     },
     "execution_count": 22,
     "metadata": {},
     "output_type": "execute_result"
    },
    {
     "data": {
      "image/png": "[encoded data removed]",
      "text/plain": [
       "<Figure size 432x288 with 1 Axes>"
      ]
     },
     "metadata": {
      "needs_background": "light"
     },
     "output_type": "display_data"
    }
   ],
   "source": [
    "data['sales'].plot()"
   ]
  },
  {
   "cell_type": "code",
   "execution_count": 23,
   "metadata": {},
   "outputs": [
    {
     "data": {
      "text/html": [
       "<div>\n",
       "<style scoped>\n",
       "    .dataframe tbody tr th:only-of-type {\n",
       "        vertical-align: middle;\n",
       "    }\n",
       "\n",
       "    .dataframe tbody tr th {\n",
       "        vertical-align: top;\n",
       "    }\n",
       "\n",
       "    .dataframe thead th {\n",
       "        text-align: right;\n",
       "    }\n",
       "</style>\n",
       "<table border=\"1\" class=\"dataframe\">\n",
       "  <thead>\n",
       "    <tr style=\"text-align: right;\">\n",
       "      <th></th>\n",
       "      <th>store</th>\n",
       "      <th>item</th>\n",
       "      <th>sales</th>\n",
       "      <th>year</th>\n",
       "      <th>month</th>\n",
       "      <th>day</th>\n",
       "      <th>weekday</th>\n",
       "    </tr>\n",
       "    <tr>\n",
       "      <th>date</th>\n",
       "      <th></th>\n",
       "      <th></th>\n",
       "      <th></th>\n",
       "      <th></th>\n",
       "      <th></th>\n",
       "      <th></th>\n",
       "      <th></th>\n",
       "    </tr>\n",
       "  </thead>\n",
       "  <tbody>\n",
       "    <tr>\n",
       "      <td>2013-01-01</td>\n",
       "      <td>1</td>\n",
       "      <td>1</td>\n",
       "      <td>13</td>\n",
       "      <td>2013</td>\n",
       "      <td>1</td>\n",
       "      <td>1</td>\n",
       "      <td>1</td>\n",
       "    </tr>\n",
       "    <tr>\n",
       "      <td>2013-01-02</td>\n",
       "      <td>1</td>\n",
       "      <td>1</td>\n",
       "      <td>11</td>\n",
       "      <td>2013</td>\n",
       "      <td>1</td>\n",
       "      <td>2</td>\n",
       "      <td>2</td>\n",
       "    </tr>\n",
       "    <tr>\n",
       "      <td>2013-01-03</td>\n",
       "      <td>1</td>\n",
       "      <td>1</td>\n",
       "      <td>14</td>\n",
       "      <td>2013</td>\n",
       "      <td>1</td>\n",
       "      <td>3</td>\n",
       "      <td>3</td>\n",
       "    </tr>\n",
       "    <tr>\n",
       "      <td>2013-01-04</td>\n",
       "      <td>1</td>\n",
       "      <td>1</td>\n",
       "      <td>13</td>\n",
       "      <td>2013</td>\n",
       "      <td>1</td>\n",
       "      <td>4</td>\n",
       "      <td>4</td>\n",
       "    </tr>\n",
       "    <tr>\n",
       "      <td>2013-01-05</td>\n",
       "      <td>1</td>\n",
       "      <td>1</td>\n",
       "      <td>10</td>\n",
       "      <td>2013</td>\n",
       "      <td>1</td>\n",
       "      <td>5</td>\n",
       "      <td>5</td>\n",
       "    </tr>\n",
       "  </tbody>\n",
       "</table>\n",
       "</div>"
      ],
      "text/plain": [
       "            store  item  sales  year  month  day  weekday\n",
       "date                                                     \n",
       "2013-01-01      1     1     13  2013      1    1        1\n",
       "2013-01-02      1     1     11  2013      1    2        2\n",
       "2013-01-03      1     1     14  2013      1    3        3\n",
       "2013-01-04      1     1     13  2013      1    4        4\n",
       "2013-01-05      1     1     10  2013      1    5        5"
      ]
     },
     "execution_count": 23,
     "metadata": {},
     "output_type": "execute_result"
    }
   ],
   "source": [
    "data.head()"
   ]
  },
  {
   "cell_type": "markdown",
   "metadata": {},
   "source": [
    "Working with data where item id=1 and store id=1"
   ]
  },
  {
   "cell_type": "code",
   "execution_count": 24,
   "metadata": {},
   "outputs": [],
   "source": [
    "buf = data[(data.item==1)&(data.store==1)].copy()"
   ]
  },
  {
   "cell_type": "code",
   "execution_count": 26,
   "metadata": {},
   "outputs": [],
   "source": [
    "#stationarity check function\n",
    "from statsmodels.tsa.stattools import adfuller"
   ]
  },
  {
   "cell_type": "code",
   "execution_count": 27,
   "metadata": {},
   "outputs": [],
   "source": [
    "def temp(sale):\n",
    "    result=adfuller(sale)\n",
    "    print(\"ADF : \"+str(result[0]))\n",
    "    print(\"P-value : \"+str(result[1]))\n",
    "    if result[1]<=0.05:\n",
    "        print(\"Stationary\")\n",
    "    else:\n",
    "        print(\"non-Stationary\")"
   ]
  },
  {
   "cell_type": "code",
   "execution_count": 28,
   "metadata": {},
   "outputs": [
    {
     "name": "stdout",
     "output_type": "stream",
     "text": [
      "ADF : -3.1576705563328\n",
      "P-value : 0.02256938062657181\n",
      "Stationary\n"
     ]
    }
   ],
   "source": [
    "temp(buf['sales'])"
   ]
  },
  {
   "cell_type": "code",
   "execution_count": 30,
   "metadata": {},
   "outputs": [],
   "source": [
    "tr_start,tr_end = '2014-01-01','2017-09-30'\n",
    "tra = buf['sales'][tr_start:tr_end].dropna()"
   ]
  },
  {
   "cell_type": "code",
   "execution_count": null,
   "metadata": {},
   "outputs": [],
   "source": []
  },
  {
   "cell_type": "code",
   "execution_count": null,
   "metadata": {},
   "outputs": [],
   "source": []
  },
  {
   "cell_type": "code",
   "execution_count": null,
   "metadata": {},
   "outputs": [],
   "source": []
  },
  {
   "cell_type": "code",
   "execution_count": 32,
   "metadata": {},
   "outputs": [],
   "source": [
    "#find p,d and q\n",
    "import statsmodels.api as sm"
   ]
  },
  {
   "cell_type": "code",
   "execution_count": 33,
   "metadata": {},
   "outputs": [
    {
     "data": {
      "image/png": "[encoded data removed]",
      "text/plain": [
       "<Figure size 864x576 with 2 Axes>"
      ]
     },
     "metadata": {
      "needs_background": "light"
     },
     "output_type": "display_data"
    }
   ],
   "source": [
    "fig=plt.figure(figsize=(12,8))\n",
    "ax1=fig.add_subplot(211)\n",
    "ax2=fig.add_subplot(212)\n",
    "fig = sm.graphics.tsa.plot_acf(tra.diff().dropna(), lags=50, ax=ax1)\n",
    "fig = sm.graphics.tsa.plot_pacf(tra.diff().dropna(), lags=50, ax=ax2)\n"
   ]
  },
  {
   "cell_type": "code",
   "execution_count": 44,
   "metadata": {},
   "outputs": [],
   "source": [
    "#p=7,d=1,q=7"
   ]
  },
  {
   "cell_type": "code",
   "execution_count": 35,
   "metadata": {},
   "outputs": [
    {
     "name": "stderr",
     "output_type": "stream",
     "text": [
      "C:\\ProgramData\\Anaconda3\\lib\\site-packages\\statsmodels\\tsa\\base\\tsa_model.py:165: ValueWarning: No frequency information was provided, so inferred frequency D will be used.\n",
      "  % freq, ValueWarning)\n",
      "C:\\ProgramData\\Anaconda3\\lib\\site-packages\\statsmodels\\base\\model.py:512: ConvergenceWarning: Maximum Likelihood optimization failed to converge. Check mle_retvals\n",
      "  \"Check mle_retvals\", ConvergenceWarning)\n"
     ]
    },
    {
     "data": {
      "text/html": [
       "<table class=\"simpletable\">\n",
       "<caption>Statespace Model Results</caption>\n",
       "<tr>\n",
       "  <th>Dep. Variable:</th>               <td>sales</td>             <th>  No. Observations:  </th>   <td>1369</td>   \n",
       "</tr>\n",
       "<tr>\n",
       "  <th>Model:</th>           <td>SARIMAX(7, 1, 7)x(7, 1, 7, 1)</td> <th>  Log Likelihood     </th> <td>-4119.144</td>\n",
       "</tr>\n",
       "<tr>\n",
       "  <th>Date:</th>                  <td>Fri, 19 Jun 2020</td>        <th>  AIC                </th> <td>8296.289</td> \n",
       "</tr>\n",
       "<tr>\n",
       "  <th>Time:</th>                      <td>11:03:55</td>            <th>  BIC                </th> <td>8447.680</td> \n",
       "</tr>\n",
       "<tr>\n",
       "  <th>Sample:</th>                   <td>01-01-2014</td>           <th>  HQIC               </th> <td>8352.949</td> \n",
       "</tr>\n",
       "<tr>\n",
       "  <th></th>                         <td>- 09-30-2017</td>          <th>                     </th>     <td> </td>    \n",
       "</tr>\n",
       "<tr>\n",
       "  <th>Covariance Type:</th>              <td>opg</td>              <th>                     </th>     <td> </td>    \n",
       "</tr>\n",
       "</table>\n",
       "<table class=\"simpletable\">\n",
       "<tr>\n",
       "     <td></td>        <th>coef</th>     <th>std err</th>      <th>z</th>      <th>P>|z|</th>  <th>[0.025</th>    <th>0.975]</th>  \n",
       "</tr>\n",
       "<tr>\n",
       "  <th>ar.L1</th>   <td>   -0.9628</td> <td> 7648.942</td> <td>   -0.000</td> <td> 1.000</td> <td> -1.5e+04</td> <td>  1.5e+04</td>\n",
       "</tr>\n",
       "<tr>\n",
       "  <th>ar.L2</th>   <td>   -0.9509</td> <td> 2468.714</td> <td>   -0.000</td> <td> 1.000</td> <td>-4839.542</td> <td> 4837.640</td>\n",
       "</tr>\n",
       "<tr>\n",
       "  <th>ar.L3</th>   <td>   -0.9398</td> <td> 4711.712</td> <td>   -0.000</td> <td> 1.000</td> <td>-9235.726</td> <td> 9233.846</td>\n",
       "</tr>\n",
       "<tr>\n",
       "  <th>ar.L4</th>   <td>   -0.9664</td> <td> 3759.232</td> <td>   -0.000</td> <td> 1.000</td> <td>-7368.925</td> <td> 7366.992</td>\n",
       "</tr>\n",
       "<tr>\n",
       "  <th>ar.L5</th>   <td>   -0.9371</td> <td> 5516.191</td> <td>   -0.000</td> <td> 1.000</td> <td>-1.08e+04</td> <td> 1.08e+04</td>\n",
       "</tr>\n",
       "<tr>\n",
       "  <th>ar.L6</th>   <td>   -0.9211</td> <td> 2515.307</td> <td>   -0.000</td> <td> 1.000</td> <td>-4930.832</td> <td> 4928.990</td>\n",
       "</tr>\n",
       "<tr>\n",
       "  <th>ar.L7</th>   <td>    0.0080</td> <td>  164.571</td> <td> 4.86e-05</td> <td> 1.000</td> <td> -322.545</td> <td>  322.561</td>\n",
       "</tr>\n",
       "<tr>\n",
       "  <th>ma.L1</th>   <td>    0.0167</td> <td>  939.856</td> <td> 1.78e-05</td> <td> 1.000</td> <td>-1842.067</td> <td> 1842.100</td>\n",
       "</tr>\n",
       "<tr>\n",
       "  <th>ma.L2</th>   <td>    0.0208</td> <td>  670.126</td> <td>  3.1e-05</td> <td> 1.000</td> <td>-1313.403</td> <td> 1313.444</td>\n",
       "</tr>\n",
       "<tr>\n",
       "  <th>ma.L3</th>   <td>    0.0224</td> <td>  605.971</td> <td> 3.69e-05</td> <td> 1.000</td> <td>-1187.660</td> <td> 1187.705</td>\n",
       "</tr>\n",
       "<tr>\n",
       "  <th>ma.L4</th>   <td>    0.0974</td> <td>  892.373</td> <td>    0.000</td> <td> 1.000</td> <td>-1748.922</td> <td> 1749.117</td>\n",
       "</tr>\n",
       "<tr>\n",
       "  <th>ma.L5</th>   <td>   -0.0019</td> <td>  445.990</td> <td>-4.31e-06</td> <td> 1.000</td> <td> -874.126</td> <td>  874.122</td>\n",
       "</tr>\n",
       "<tr>\n",
       "  <th>ma.L6</th>   <td>    0.0406</td> <td>  578.012</td> <td> 7.02e-05</td> <td> 1.000</td> <td>-1132.842</td> <td> 1132.923</td>\n",
       "</tr>\n",
       "<tr>\n",
       "  <th>ma.L7</th>   <td>   -0.8400</td> <td>  875.223</td> <td>   -0.001</td> <td> 0.999</td> <td>-1716.246</td> <td> 1714.566</td>\n",
       "</tr>\n",
       "<tr>\n",
       "  <th>ar.S.L1</th> <td>   -0.9628</td> <td> 7648.913</td> <td>   -0.000</td> <td> 1.000</td> <td> -1.5e+04</td> <td>  1.5e+04</td>\n",
       "</tr>\n",
       "<tr>\n",
       "  <th>ar.S.L2</th> <td>   -0.9509</td> <td> 2468.712</td> <td>   -0.000</td> <td> 1.000</td> <td>-4839.537</td> <td> 4837.635</td>\n",
       "</tr>\n",
       "<tr>\n",
       "  <th>ar.S.L3</th> <td>   -0.9398</td> <td> 4711.738</td> <td>   -0.000</td> <td> 1.000</td> <td>-9235.777</td> <td> 9233.898</td>\n",
       "</tr>\n",
       "<tr>\n",
       "  <th>ar.S.L4</th> <td>   -0.9664</td> <td> 3759.275</td> <td>   -0.000</td> <td> 1.000</td> <td>-7369.011</td> <td> 7367.078</td>\n",
       "</tr>\n",
       "<tr>\n",
       "  <th>ar.S.L5</th> <td>   -0.9371</td> <td> 5516.200</td> <td>   -0.000</td> <td> 1.000</td> <td>-1.08e+04</td> <td> 1.08e+04</td>\n",
       "</tr>\n",
       "<tr>\n",
       "  <th>ar.S.L6</th> <td>   -0.9211</td> <td> 2515.259</td> <td>   -0.000</td> <td> 1.000</td> <td>-4930.738</td> <td> 4928.895</td>\n",
       "</tr>\n",
       "<tr>\n",
       "  <th>ar.S.L7</th> <td>    0.0080</td> <td>  164.575</td> <td> 4.86e-05</td> <td> 1.000</td> <td> -322.553</td> <td>  322.569</td>\n",
       "</tr>\n",
       "<tr>\n",
       "  <th>ma.S.L1</th> <td>    0.0167</td> <td>  939.845</td> <td> 1.78e-05</td> <td> 1.000</td> <td>-1842.045</td> <td> 1842.078</td>\n",
       "</tr>\n",
       "<tr>\n",
       "  <th>ma.S.L2</th> <td>    0.0207</td> <td>  670.160</td> <td>  3.1e-05</td> <td> 1.000</td> <td>-1313.468</td> <td> 1313.510</td>\n",
       "</tr>\n",
       "<tr>\n",
       "  <th>ma.S.L3</th> <td>    0.0224</td> <td>  606.012</td> <td> 3.69e-05</td> <td> 1.000</td> <td>-1187.739</td> <td> 1187.784</td>\n",
       "</tr>\n",
       "<tr>\n",
       "  <th>ma.S.L4</th> <td>    0.0974</td> <td>  892.379</td> <td>    0.000</td> <td> 1.000</td> <td>-1748.933</td> <td> 1749.128</td>\n",
       "</tr>\n",
       "<tr>\n",
       "  <th>ma.S.L5</th> <td>   -0.0019</td> <td>  445.971</td> <td>-4.28e-06</td> <td> 1.000</td> <td> -874.089</td> <td>  874.085</td>\n",
       "</tr>\n",
       "<tr>\n",
       "  <th>ma.S.L6</th> <td>    0.0406</td> <td>  578.018</td> <td> 7.02e-05</td> <td> 1.000</td> <td>-1132.854</td> <td> 1132.935</td>\n",
       "</tr>\n",
       "<tr>\n",
       "  <th>ma.S.L7</th> <td>   -0.8400</td> <td>  875.253</td> <td>   -0.001</td> <td> 0.999</td> <td>-1716.305</td> <td> 1714.625</td>\n",
       "</tr>\n",
       "<tr>\n",
       "  <th>sigma2</th>  <td>   22.5565</td> <td>    0.821</td> <td>   27.467</td> <td> 0.000</td> <td>   20.947</td> <td>   24.166</td>\n",
       "</tr>\n",
       "</table>\n",
       "<table class=\"simpletable\">\n",
       "<tr>\n",
       "  <th>Ljung-Box (Q):</th>          <td>44.53</td> <th>  Jarque-Bera (JB):  </th> <td>7.58</td>\n",
       "</tr>\n",
       "<tr>\n",
       "  <th>Prob(Q):</th>                <td>0.29</td>  <th>  Prob(JB):          </th> <td>0.02</td>\n",
       "</tr>\n",
       "<tr>\n",
       "  <th>Heteroskedasticity (H):</th> <td>1.30</td>  <th>  Skew:              </th> <td>0.15</td>\n",
       "</tr>\n",
       "<tr>\n",
       "  <th>Prob(H) (two-sided):</th>    <td>0.01</td>  <th>  Kurtosis:          </th> <td>3.21</td>\n",
       "</tr>\n",
       "</table><br/><br/>Warnings:<br/>[1] Covariance matrix calculated using the outer product of gradients (complex-step)."
      ],
      "text/plain": [
       "<class 'statsmodels.iolib.summary.Summary'>\n",
       "\"\"\"\n",
       "                                 Statespace Model Results                                \n",
       "=========================================================================================\n",
       "Dep. Variable:                             sales   No. Observations:                 1369\n",
       "Model:             SARIMAX(7, 1, 7)x(7, 1, 7, 1)   Log Likelihood               -4119.144\n",
       "Date:                           Fri, 19 Jun 2020   AIC                           8296.289\n",
       "Time:                                   11:03:55   BIC                           8447.680\n",
       "Sample:                               01-01-2014   HQIC                          8352.949\n",
       "                                    - 09-30-2017                                         \n",
       "Covariance Type:                             opg                                         \n",
       "==============================================================================\n",
       "                 coef    std err          z      P>|z|      [0.025      0.975]\n",
       "------------------------------------------------------------------------------\n",
       "ar.L1         -0.9628   7648.942     -0.000      1.000    -1.5e+04     1.5e+04\n",
       "ar.L2         -0.9509   2468.714     -0.000      1.000   -4839.542    4837.640\n",
       "ar.L3         -0.9398   4711.712     -0.000      1.000   -9235.726    9233.846\n",
       "ar.L4         -0.9664   3759.232     -0.000      1.000   -7368.925    7366.992\n",
       "ar.L5         -0.9371   5516.191     -0.000      1.000   -1.08e+04    1.08e+04\n",
       "ar.L6         -0.9211   2515.307     -0.000      1.000   -4930.832    4928.990\n",
       "ar.L7          0.0080    164.571   4.86e-05      1.000    -322.545     322.561\n",
       "ma.L1          0.0167    939.856   1.78e-05      1.000   -1842.067    1842.100\n",
       "ma.L2          0.0208    670.126    3.1e-05      1.000   -1313.403    1313.444\n",
       "ma.L3          0.0224    605.971   3.69e-05      1.000   -1187.660    1187.705\n",
       "ma.L4          0.0974    892.373      0.000      1.000   -1748.922    1749.117\n",
       "ma.L5         -0.0019    445.990  -4.31e-06      1.000    -874.126     874.122\n",
       "ma.L6          0.0406    578.012   7.02e-05      1.000   -1132.842    1132.923\n",
       "ma.L7         -0.8400    875.223     -0.001      0.999   -1716.246    1714.566\n",
       "ar.S.L1       -0.9628   7648.913     -0.000      1.000    -1.5e+04     1.5e+04\n",
       "ar.S.L2       -0.9509   2468.712     -0.000      1.000   -4839.537    4837.635\n",
       "ar.S.L3       -0.9398   4711.738     -0.000      1.000   -9235.777    9233.898\n",
       "ar.S.L4       -0.9664   3759.275     -0.000      1.000   -7369.011    7367.078\n",
       "ar.S.L5       -0.9371   5516.200     -0.000      1.000   -1.08e+04    1.08e+04\n",
       "ar.S.L6       -0.9211   2515.259     -0.000      1.000   -4930.738    4928.895\n",
       "ar.S.L7        0.0080    164.575   4.86e-05      1.000    -322.553     322.569\n",
       "ma.S.L1        0.0167    939.845   1.78e-05      1.000   -1842.045    1842.078\n",
       "ma.S.L2        0.0207    670.160    3.1e-05      1.000   -1313.468    1313.510\n",
       "ma.S.L3        0.0224    606.012   3.69e-05      1.000   -1187.739    1187.784\n",
       "ma.S.L4        0.0974    892.379      0.000      1.000   -1748.933    1749.128\n",
       "ma.S.L5       -0.0019    445.971  -4.28e-06      1.000    -874.089     874.085\n",
       "ma.S.L6        0.0406    578.018   7.02e-05      1.000   -1132.854    1132.935\n",
       "ma.S.L7       -0.8400    875.253     -0.001      0.999   -1716.305    1714.625\n",
       "sigma2        22.5565      0.821     27.467      0.000      20.947      24.166\n",
       "===================================================================================\n",
       "Ljung-Box (Q):                       44.53   Jarque-Bera (JB):                 7.58\n",
       "Prob(Q):                              0.29   Prob(JB):                         0.02\n",
       "Heteroskedasticity (H):               1.30   Skew:                             0.15\n",
       "Prob(H) (two-sided):                  0.01   Kurtosis:                         3.21\n",
       "===================================================================================\n",
       "\n",
       "Warnings:\n",
       "[1] Covariance matrix calculated using the outer product of gradients (complex-step).\n",
       "\"\"\""
      ]
     },
     "execution_count": 35,
     "metadata": {},
     "output_type": "execute_result"
    }
   ],
   "source": [
    "model=sm.tsa.statespace.SARIMAX(tra,order=(7,1,7),seasonal_order=(7,1,7,1)).fit()\n",
    "model.summary()"
   ]
  },
  {
   "cell_type": "code",
   "execution_count": 36,
   "metadata": {},
   "outputs": [],
   "source": [
    "te_start,te_end = '2017-10-01','2017-12-31'\n",
    "tes = buf['sales'][te_start:te_end].dropna()"
   ]
  },
  {
   "cell_type": "code",
   "execution_count": 37,
   "metadata": {},
   "outputs": [
    {
     "name": "stdout",
     "output_type": "stream",
     "text": [
      "SARIMA model MSE:30.067089829668145\n"
     ]
    }
   ],
   "source": [
    "from sklearn.metrics import mean_squared_error\n",
    "pred = model.predict(tr_end,te_end)[1:]\n",
    "print('SARIMA model MSE:{}'.format(mean_squared_error(tes,pred)))"
   ]
  },
  {
   "cell_type": "code",
   "execution_count": null,
   "metadata": {},
   "outputs": [],
   "source": []
  },
  {
   "cell_type": "code",
   "execution_count": 38,
   "metadata": {},
   "outputs": [
    {
     "data": {
      "text/plain": [
       "Timestamp('2017-09-30 00:00:00')"
      ]
     },
     "execution_count": 38,
     "metadata": {},
     "output_type": "execute_result"
    }
   ],
   "source": [
    "tra.index[-1]"
   ]
  },
  {
   "cell_type": "code",
   "execution_count": 39,
   "metadata": {},
   "outputs": [],
   "source": [
    "from pandas.tseries.offsets import DateOffset\n",
    "fu_date=[tra.index[-1]+DateOffset(months=x) for x in range(0,90)]"
   ]
  },
  {
   "cell_type": "code",
   "execution_count": 40,
   "metadata": {},
   "outputs": [],
   "source": [
    "fdf=pd.DataFrame(index=fu_date[1:])"
   ]
  },
  {
   "cell_type": "code",
   "execution_count": 41,
   "metadata": {},
   "outputs": [],
   "source": [
    "fd=pd.concat([tra,fdf])"
   ]
  },
  {
   "cell_type": "code",
   "execution_count": 42,
   "metadata": {},
   "outputs": [
    {
     "data": {
      "text/plain": [
       "(1369,)"
      ]
     },
     "execution_count": 42,
     "metadata": {},
     "output_type": "execute_result"
    }
   ],
   "source": [
    "tra.shape"
   ]
  },
  {
   "cell_type": "code",
   "execution_count": 43,
   "metadata": {},
   "outputs": [
    {
     "data": {
      "image/png": "[encoded data removed]",
      "text/plain": [
       "<Figure size 1440x576 with 1 Axes>"
      ]
     },
     "metadata": {
      "needs_background": "light"
     },
     "output_type": "display_data"
    }
   ],
   "source": [
    "fd=model.predict(start=1369,end=1459,dynamic=True)\n",
    "plt.figure(figsize=(20,8))\n",
    "tra.plot()\n",
    "fd.plot()\n",
    "plt.show()\n"
   ]
  },
  {
   "cell_type": "code",
   "execution_count": 73,
   "metadata": {},
   "outputs": [
    {
     "data": {
      "text/plain": [
       "2017-10-01    24.577476\n",
       "2017-10-02    18.057054\n",
       "2017-10-03    21.026184\n",
       "2017-10-04    21.949205\n",
       "2017-10-05    24.227905\n",
       "2017-10-06    26.580826\n",
       "2017-10-07    28.166092\n",
       "2017-10-08    24.200188\n",
       "2017-10-09    18.016437\n",
       "2017-10-10    20.681856\n",
       "2017-10-11    21.617601\n",
       "2017-10-12    23.930976\n",
       "2017-10-13    26.300599\n",
       "2017-10-14    27.631497\n",
       "2017-10-15    23.849106\n",
       "2017-10-16    17.960884\n",
       "2017-10-17    20.343710\n",
       "2017-10-18    21.290922\n",
       "2017-10-19    23.630820\n",
       "2017-10-20    26.008445\n",
       "2017-10-21    27.111893\n",
       "2017-10-22    23.501837\n",
       "2017-10-23    17.890867\n",
       "2017-10-24    20.011435\n",
       "2017-10-25    20.968882\n",
       "2017-10-26    23.327468\n",
       "2017-10-27    25.705511\n",
       "2017-10-28    26.606303\n",
       "2017-10-29    23.158015\n",
       "2017-10-30    17.807157\n",
       "2017-10-31    19.684717\n",
       "2017-11-01    20.651161\n",
       "2017-11-02    23.021009\n",
       "2017-11-03    25.392871\n",
       "2017-11-04    26.113780\n",
       "2017-11-05    22.817297\n",
       "2017-11-06    17.710527\n",
       "2017-11-07    19.363244\n",
       "2017-11-08    20.337420\n",
       "2017-11-09    22.711572\n",
       "2017-11-10    25.071532\n",
       "2017-11-11    25.633408\n",
       "2017-11-12    22.479358\n",
       "2017-11-13    17.601738\n",
       "2017-11-14    19.046702\n",
       "2017-11-15    20.027310\n",
       "2017-11-16    22.399316\n",
       "2017-11-17    24.742425\n",
       "2017-11-18    25.164315\n",
       "2017-11-19    22.143900\n",
       "2017-11-20    17.481530\n",
       "2017-11-21    18.734782\n",
       "2017-11-22    19.720485\n",
       "2017-11-23    22.084424\n",
       "2017-11-24    24.406415\n",
       "2017-11-25    24.705666\n",
       "2017-11-26    21.810649\n",
       "2017-11-27    17.350616\n",
       "2017-11-28    18.427181\n",
       "2017-11-29    19.416604\n",
       "2017-11-30    21.767089\n",
       "2017-12-01    24.064297\n",
       "2017-12-02    24.256674\n",
       "2017-12-03    21.479354\n",
       "2017-12-04    17.209678\n",
       "2017-12-05    18.123603\n",
       "2017-12-06    19.115339\n",
       "2017-12-07    21.447517\n",
       "2017-12-08    23.716806\n",
       "2017-12-09    23.816596\n",
       "2017-12-10    21.149788\n",
       "2017-12-11    17.059364\n",
       "2017-12-12    17.823758\n",
       "2017-12-13    18.816379\n",
       "2017-12-14    21.125914\n",
       "2017-12-15    23.364612\n",
       "2017-12-16    23.384736\n",
       "2017-12-17    20.821747\n",
       "2017-12-18    16.900283\n",
       "2017-12-19    17.527370\n",
       "2017-12-20    18.519430\n",
       "2017-12-21    20.802484\n",
       "2017-12-22    23.008330\n",
       "2017-12-23    22.960439\n",
       "2017-12-24    20.495049\n",
       "2017-12-25    16.733013\n",
       "2017-12-26    17.234169\n",
       "2017-12-27    18.224218\n",
       "2017-12-28    20.477428\n",
       "2017-12-29    22.648520\n",
       "2017-12-30    22.543099\n",
       "Freq: D, dtype: float64"
      ]
     },
     "execution_count": 73,
     "metadata": {},
     "output_type": "execute_result"
    }
   ],
   "source": [
    "fd"
   ]
  },
  {
   "cell_type": "code",
   "execution_count": null,
   "metadata": {},
   "outputs": [],
   "source": []
  },
  {
   "cell_type": "code",
   "execution_count": null,
   "metadata": {},
   "outputs": [],
   "source": [
    "#working with resample data"
   ]
  },
  {
   "cell_type": "code",
   "execution_count": 45,
   "metadata": {},
   "outputs": [
    {
     "data": {
      "text/html": [
       "<div>\n",
       "<style scoped>\n",
       "    .dataframe tbody tr th:only-of-type {\n",
       "        vertical-align: middle;\n",
       "    }\n",
       "\n",
       "    .dataframe tbody tr th {\n",
       "        vertical-align: top;\n",
       "    }\n",
       "\n",
       "    .dataframe thead th {\n",
       "        text-align: right;\n",
       "    }\n",
       "</style>\n",
       "<table border=\"1\" class=\"dataframe\">\n",
       "  <thead>\n",
       "    <tr style=\"text-align: right;\">\n",
       "      <th></th>\n",
       "      <th>store</th>\n",
       "      <th>item</th>\n",
       "      <th>sales</th>\n",
       "      <th>year</th>\n",
       "      <th>month</th>\n",
       "      <th>day</th>\n",
       "      <th>weekday</th>\n",
       "    </tr>\n",
       "    <tr>\n",
       "      <th>date</th>\n",
       "      <th></th>\n",
       "      <th></th>\n",
       "      <th></th>\n",
       "      <th></th>\n",
       "      <th></th>\n",
       "      <th></th>\n",
       "      <th></th>\n",
       "    </tr>\n",
       "  </thead>\n",
       "  <tbody>\n",
       "    <tr>\n",
       "      <td>2013-01-01</td>\n",
       "      <td>1</td>\n",
       "      <td>1</td>\n",
       "      <td>13</td>\n",
       "      <td>2013</td>\n",
       "      <td>1</td>\n",
       "      <td>1</td>\n",
       "      <td>1</td>\n",
       "    </tr>\n",
       "    <tr>\n",
       "      <td>2013-01-02</td>\n",
       "      <td>1</td>\n",
       "      <td>1</td>\n",
       "      <td>11</td>\n",
       "      <td>2013</td>\n",
       "      <td>1</td>\n",
       "      <td>2</td>\n",
       "      <td>2</td>\n",
       "    </tr>\n",
       "    <tr>\n",
       "      <td>2013-01-03</td>\n",
       "      <td>1</td>\n",
       "      <td>1</td>\n",
       "      <td>14</td>\n",
       "      <td>2013</td>\n",
       "      <td>1</td>\n",
       "      <td>3</td>\n",
       "      <td>3</td>\n",
       "    </tr>\n",
       "    <tr>\n",
       "      <td>2013-01-04</td>\n",
       "      <td>1</td>\n",
       "      <td>1</td>\n",
       "      <td>13</td>\n",
       "      <td>2013</td>\n",
       "      <td>1</td>\n",
       "      <td>4</td>\n",
       "      <td>4</td>\n",
       "    </tr>\n",
       "    <tr>\n",
       "      <td>2013-01-05</td>\n",
       "      <td>1</td>\n",
       "      <td>1</td>\n",
       "      <td>10</td>\n",
       "      <td>2013</td>\n",
       "      <td>1</td>\n",
       "      <td>5</td>\n",
       "      <td>5</td>\n",
       "    </tr>\n",
       "  </tbody>\n",
       "</table>\n",
       "</div>"
      ],
      "text/plain": [
       "            store  item  sales  year  month  day  weekday\n",
       "date                                                     \n",
       "2013-01-01      1     1     13  2013      1    1        1\n",
       "2013-01-02      1     1     11  2013      1    2        2\n",
       "2013-01-03      1     1     14  2013      1    3        3\n",
       "2013-01-04      1     1     13  2013      1    4        4\n",
       "2013-01-05      1     1     10  2013      1    5        5"
      ]
     },
     "execution_count": 45,
     "metadata": {},
     "output_type": "execute_result"
    }
   ],
   "source": [
    "data.head()"
   ]
  },
  {
   "cell_type": "code",
   "execution_count": 90,
   "metadata": {},
   "outputs": [],
   "source": [
    "resample_monthly_temp = buf['sales'].resample('MS').mean()#resample data"
   ]
  },
  {
   "cell_type": "code",
   "execution_count": 91,
   "metadata": {},
   "outputs": [
    {
     "data": {
      "text/plain": [
       "<matplotlib.axes._subplots.AxesSubplot at 0x21865cdf748>"
      ]
     },
     "execution_count": 91,
     "metadata": {},
     "output_type": "execute_result"
    },
    {
     "data": {
      "image/png": "[encoded data removed]",
      "text/plain": [
       "<Figure size 864x432 with 1 Axes>"
      ]
     },
     "metadata": {
      "needs_background": "light"
     },
     "output_type": "display_data"
    }
   ],
   "source": [
    "resample_monthly_temp.plot(figsize=(12,6))"
   ]
  },
  {
   "cell_type": "code",
   "execution_count": 92,
   "metadata": {},
   "outputs": [
    {
     "name": "stdout",
     "output_type": "stream",
     "text": [
      "ADF : -4.051321644240125\n",
      "P-value : 0.0011643777601817104\n",
      "Stationary\n"
     ]
    }
   ],
   "source": [
    "#check for stationarity\n",
    "temp(resample_monthly_temp)"
   ]
  },
  {
   "cell_type": "code",
   "execution_count": 93,
   "metadata": {},
   "outputs": [
    {
     "data": {
      "text/plain": [
       "(1826, 7)"
      ]
     },
     "execution_count": 93,
     "metadata": {},
     "output_type": "execute_result"
    }
   ],
   "source": [
    "buf.shape"
   ]
  },
  {
   "cell_type": "code",
   "execution_count": 94,
   "metadata": {},
   "outputs": [
    {
     "data": {
      "text/plain": [
       "date\n",
       "2013-01-01    10.580645\n",
       "2013-02-01    11.500000\n",
       "2013-03-01    15.387097\n",
       "2013-04-01    17.400000\n",
       "2013-05-01    17.129032\n",
       "2013-06-01    20.900000\n",
       "2013-07-01    21.322581\n",
       "2013-08-01    19.161290\n",
       "2013-09-01    17.300000\n",
       "2013-10-01    15.612903\n",
       "2013-11-01    19.066667\n",
       "2013-12-01    12.516129\n",
       "2014-01-01    14.032258\n",
       "2014-02-01    14.464286\n",
       "2014-03-01    17.709677\n",
       "2014-04-01    19.100000\n",
       "2014-05-01    21.000000\n",
       "2014-06-01    23.666667\n",
       "2014-07-01    24.064516\n",
       "2014-08-01    21.645161\n",
       "2014-09-01    18.866667\n",
       "2014-10-01    17.903226\n",
       "2014-11-01    20.633333\n",
       "2014-12-01    13.193548\n",
       "2015-01-01    13.806452\n",
       "2015-02-01    14.250000\n",
       "2015-03-01    17.806452\n",
       "2015-04-01    21.733333\n",
       "2015-05-01    22.935484\n",
       "2015-06-01    24.933333\n",
       "2015-07-01    27.161290\n",
       "2015-08-01    22.774194\n",
       "2015-09-01    22.600000\n",
       "2015-10-01    20.870968\n",
       "2015-11-01    22.800000\n",
       "2015-12-01    14.838710\n",
       "2016-01-01    14.483871\n",
       "2016-02-01    15.517241\n",
       "2016-03-01    19.000000\n",
       "2016-04-01    23.133333\n",
       "2016-05-01    25.225806\n",
       "2016-06-01    26.333333\n",
       "2016-07-01    29.129032\n",
       "2016-08-01    23.451613\n",
       "2016-09-01    23.633333\n",
       "2016-10-01    22.548387\n",
       "2016-11-01    22.066667\n",
       "2016-12-01    16.000000\n",
       "2017-01-01    15.645161\n",
       "2017-02-01    17.392857\n",
       "2017-03-01    18.096774\n",
       "2017-04-01    22.566667\n",
       "2017-05-01    24.935484\n",
       "2017-06-01    28.333333\n",
       "2017-07-01    28.161290\n",
       "2017-08-01    25.612903\n",
       "2017-09-01    24.533333\n",
       "2017-10-01    21.290323\n",
       "2017-11-01    22.266667\n",
       "2017-12-01    17.193548\n",
       "Freq: MS, Name: sales, dtype: float64"
      ]
     },
     "execution_count": 94,
     "metadata": {},
     "output_type": "execute_result"
    }
   ],
   "source": [
    "resample_monthly_temp"
   ]
  },
  {
   "cell_type": "code",
   "execution_count": 95,
   "metadata": {},
   "outputs": [
    {
     "data": {
      "text/plain": [
       "(60,)"
      ]
     },
     "execution_count": 95,
     "metadata": {},
     "output_type": "execute_result"
    }
   ],
   "source": [
    "resample_monthly_temp.shape"
   ]
  },
  {
   "cell_type": "code",
   "execution_count": 96,
   "metadata": {},
   "outputs": [
    {
     "name": "stderr",
     "output_type": "stream",
     "text": [
      "C:\\ProgramData\\Anaconda3\\lib\\site-packages\\statsmodels\\tsa\\statespace\\sarimax.py:961: UserWarning: Non-invertible starting MA parameters found. Using zeros as starting parameters.\n",
      "  warn('Non-invertible starting MA parameters found.'\n",
      "C:\\ProgramData\\Anaconda3\\lib\\site-packages\\statsmodels\\base\\model.py:512: ConvergenceWarning: Maximum Likelihood optimization failed to converge. Check mle_retvals\n",
      "  \"Check mle_retvals\", ConvergenceWarning)\n"
     ]
    }
   ],
   "source": [
    "#train Seasonal Arimax model\n",
    "model2=sm.tsa.statespace.SARIMAX(resample_monthly_temp,order=(7,1,7),seasonal_order=(7,1,[],7),m=12)\n",
    "mf2=model2.fit()"
   ]
  },
  {
   "cell_type": "code",
   "execution_count": 97,
   "metadata": {},
   "outputs": [
    {
     "data": {
      "text/plain": [
       "<matplotlib.axes._subplots.AxesSubplot at 0x2186de19d88>"
      ]
     },
     "execution_count": 97,
     "metadata": {},
     "output_type": "execute_result"
    },
    {
     "data": {
      "image/png": "[encoded data removed]",
      "text/plain": [
       "<Figure size 432x288 with 1 Axes>"
      ]
     },
     "metadata": {
      "needs_background": "light"
     },
     "output_type": "display_data"
    }
   ],
   "source": [
    "predictions = mf2.predict(start=35, end=59)\n",
    "resample_monthly_temp.plot()\n",
    "predictions.plot(legend=True)"
   ]
  },
  {
   "cell_type": "code",
   "execution_count": 98,
   "metadata": {},
   "outputs": [],
   "source": [
    "forcast=mf2.predict(len(resample_monthly_temp)-1,len(resample_monthly_temp)+12)"
   ]
  },
  {
   "cell_type": "code",
   "execution_count": 99,
   "metadata": {},
   "outputs": [
    {
     "data": {
      "text/plain": [
       "<matplotlib.axes._subplots.AxesSubplot at 0x21865d9e1c8>"
      ]
     },
     "execution_count": 99,
     "metadata": {},
     "output_type": "execute_result"
    },
    {
     "data": {
      "image/png": "[encoded data removed]",
      "text/plain": [
       "<Figure size 864x432 with 1 Axes>"
      ]
     },
     "metadata": {
      "needs_background": "light"
     },
     "output_type": "display_data"
    }
   ],
   "source": [
    "\n",
    "resample_monthly_temp.plot(figsize=(12,6))\n",
    "forcast.plot(legend=True)"
   ]
  },
  {
   "cell_type": "code",
   "execution_count": 100,
   "metadata": {},
   "outputs": [
    {
     "data": {
      "text/plain": [
       "2017-12-01    15.975202\n",
       "2018-01-01    20.180415\n",
       "2018-02-01    18.617484\n",
       "2018-03-01    22.080364\n",
       "2018-04-01    22.005582\n",
       "2018-05-01    24.693197\n",
       "2018-06-01    27.697104\n",
       "2018-07-01    29.042052\n",
       "2018-08-01    28.976680\n",
       "2018-09-01    28.446534\n",
       "2018-10-01    29.245235\n",
       "2018-11-01    26.577938\n",
       "2018-12-01    20.087591\n",
       "2019-01-01    23.144320\n",
       "Freq: MS, dtype: float64"
      ]
     },
     "execution_count": 100,
     "metadata": {},
     "output_type": "execute_result"
    }
   ],
   "source": [
    "forcast"
   ]
  },
  {
   "cell_type": "code",
   "execution_count": null,
   "metadata": {},
   "outputs": [],
   "source": []
  },
  {
   "cell_type": "code",
   "execution_count": 70,
   "metadata": {},
   "outputs": [
    {
     "data": {
      "text/html": [
       "<div>\n",
       "<style scoped>\n",
       "    .dataframe tbody tr th:only-of-type {\n",
       "        vertical-align: middle;\n",
       "    }\n",
       "\n",
       "    .dataframe tbody tr th {\n",
       "        vertical-align: top;\n",
       "    }\n",
       "\n",
       "    .dataframe thead th {\n",
       "        text-align: right;\n",
       "    }\n",
       "</style>\n",
       "<table border=\"1\" class=\"dataframe\">\n",
       "  <thead>\n",
       "    <tr style=\"text-align: right;\">\n",
       "      <th></th>\n",
       "      <th>store</th>\n",
       "      <th>item</th>\n",
       "      <th>sales</th>\n",
       "      <th>year</th>\n",
       "      <th>month</th>\n",
       "      <th>day</th>\n",
       "      <th>weekday</th>\n",
       "    </tr>\n",
       "    <tr>\n",
       "      <th>date</th>\n",
       "      <th></th>\n",
       "      <th></th>\n",
       "      <th></th>\n",
       "      <th></th>\n",
       "      <th></th>\n",
       "      <th></th>\n",
       "      <th></th>\n",
       "    </tr>\n",
       "  </thead>\n",
       "  <tbody>\n",
       "    <tr>\n",
       "      <td>2013-01-01</td>\n",
       "      <td>1</td>\n",
       "      <td>1</td>\n",
       "      <td>13</td>\n",
       "      <td>2013</td>\n",
       "      <td>1</td>\n",
       "      <td>1</td>\n",
       "      <td>1</td>\n",
       "    </tr>\n",
       "    <tr>\n",
       "      <td>2013-01-02</td>\n",
       "      <td>1</td>\n",
       "      <td>1</td>\n",
       "      <td>11</td>\n",
       "      <td>2013</td>\n",
       "      <td>1</td>\n",
       "      <td>2</td>\n",
       "      <td>2</td>\n",
       "    </tr>\n",
       "    <tr>\n",
       "      <td>2013-01-03</td>\n",
       "      <td>1</td>\n",
       "      <td>1</td>\n",
       "      <td>14</td>\n",
       "      <td>2013</td>\n",
       "      <td>1</td>\n",
       "      <td>3</td>\n",
       "      <td>3</td>\n",
       "    </tr>\n",
       "    <tr>\n",
       "      <td>2013-01-04</td>\n",
       "      <td>1</td>\n",
       "      <td>1</td>\n",
       "      <td>13</td>\n",
       "      <td>2013</td>\n",
       "      <td>1</td>\n",
       "      <td>4</td>\n",
       "      <td>4</td>\n",
       "    </tr>\n",
       "    <tr>\n",
       "      <td>2013-01-05</td>\n",
       "      <td>1</td>\n",
       "      <td>1</td>\n",
       "      <td>10</td>\n",
       "      <td>2013</td>\n",
       "      <td>1</td>\n",
       "      <td>5</td>\n",
       "      <td>5</td>\n",
       "    </tr>\n",
       "    <tr>\n",
       "      <td>2013-01-06</td>\n",
       "      <td>1</td>\n",
       "      <td>1</td>\n",
       "      <td>12</td>\n",
       "      <td>2013</td>\n",
       "      <td>1</td>\n",
       "      <td>6</td>\n",
       "      <td>6</td>\n",
       "    </tr>\n",
       "    <tr>\n",
       "      <td>2013-01-07</td>\n",
       "      <td>1</td>\n",
       "      <td>1</td>\n",
       "      <td>10</td>\n",
       "      <td>2013</td>\n",
       "      <td>1</td>\n",
       "      <td>7</td>\n",
       "      <td>0</td>\n",
       "    </tr>\n",
       "    <tr>\n",
       "      <td>2013-01-08</td>\n",
       "      <td>1</td>\n",
       "      <td>1</td>\n",
       "      <td>9</td>\n",
       "      <td>2013</td>\n",
       "      <td>1</td>\n",
       "      <td>8</td>\n",
       "      <td>1</td>\n",
       "    </tr>\n",
       "    <tr>\n",
       "      <td>2013-01-09</td>\n",
       "      <td>1</td>\n",
       "      <td>1</td>\n",
       "      <td>12</td>\n",
       "      <td>2013</td>\n",
       "      <td>1</td>\n",
       "      <td>9</td>\n",
       "      <td>2</td>\n",
       "    </tr>\n",
       "    <tr>\n",
       "      <td>2013-01-10</td>\n",
       "      <td>1</td>\n",
       "      <td>1</td>\n",
       "      <td>9</td>\n",
       "      <td>2013</td>\n",
       "      <td>1</td>\n",
       "      <td>10</td>\n",
       "      <td>3</td>\n",
       "    </tr>\n",
       "    <tr>\n",
       "      <td>2013-01-11</td>\n",
       "      <td>1</td>\n",
       "      <td>1</td>\n",
       "      <td>9</td>\n",
       "      <td>2013</td>\n",
       "      <td>1</td>\n",
       "      <td>11</td>\n",
       "      <td>4</td>\n",
       "    </tr>\n",
       "    <tr>\n",
       "      <td>2013-01-12</td>\n",
       "      <td>1</td>\n",
       "      <td>1</td>\n",
       "      <td>7</td>\n",
       "      <td>2013</td>\n",
       "      <td>1</td>\n",
       "      <td>12</td>\n",
       "      <td>5</td>\n",
       "    </tr>\n",
       "    <tr>\n",
       "      <td>2013-01-13</td>\n",
       "      <td>1</td>\n",
       "      <td>1</td>\n",
       "      <td>10</td>\n",
       "      <td>2013</td>\n",
       "      <td>1</td>\n",
       "      <td>13</td>\n",
       "      <td>6</td>\n",
       "    </tr>\n",
       "    <tr>\n",
       "      <td>2013-01-14</td>\n",
       "      <td>1</td>\n",
       "      <td>1</td>\n",
       "      <td>12</td>\n",
       "      <td>2013</td>\n",
       "      <td>1</td>\n",
       "      <td>14</td>\n",
       "      <td>0</td>\n",
       "    </tr>\n",
       "    <tr>\n",
       "      <td>2013-01-15</td>\n",
       "      <td>1</td>\n",
       "      <td>1</td>\n",
       "      <td>5</td>\n",
       "      <td>2013</td>\n",
       "      <td>1</td>\n",
       "      <td>15</td>\n",
       "      <td>1</td>\n",
       "    </tr>\n",
       "    <tr>\n",
       "      <td>2013-01-16</td>\n",
       "      <td>1</td>\n",
       "      <td>1</td>\n",
       "      <td>7</td>\n",
       "      <td>2013</td>\n",
       "      <td>1</td>\n",
       "      <td>16</td>\n",
       "      <td>2</td>\n",
       "    </tr>\n",
       "    <tr>\n",
       "      <td>2013-01-17</td>\n",
       "      <td>1</td>\n",
       "      <td>1</td>\n",
       "      <td>16</td>\n",
       "      <td>2013</td>\n",
       "      <td>1</td>\n",
       "      <td>17</td>\n",
       "      <td>3</td>\n",
       "    </tr>\n",
       "    <tr>\n",
       "      <td>2013-01-18</td>\n",
       "      <td>1</td>\n",
       "      <td>1</td>\n",
       "      <td>7</td>\n",
       "      <td>2013</td>\n",
       "      <td>1</td>\n",
       "      <td>18</td>\n",
       "      <td>4</td>\n",
       "    </tr>\n",
       "    <tr>\n",
       "      <td>2013-01-19</td>\n",
       "      <td>1</td>\n",
       "      <td>1</td>\n",
       "      <td>18</td>\n",
       "      <td>2013</td>\n",
       "      <td>1</td>\n",
       "      <td>19</td>\n",
       "      <td>5</td>\n",
       "    </tr>\n",
       "    <tr>\n",
       "      <td>2013-01-20</td>\n",
       "      <td>1</td>\n",
       "      <td>1</td>\n",
       "      <td>15</td>\n",
       "      <td>2013</td>\n",
       "      <td>1</td>\n",
       "      <td>20</td>\n",
       "      <td>6</td>\n",
       "    </tr>\n",
       "  </tbody>\n",
       "</table>\n",
       "</div>"
      ],
      "text/plain": [
       "            store  item  sales  year  month  day  weekday\n",
       "date                                                     \n",
       "2013-01-01      1     1     13  2013      1    1        1\n",
       "2013-01-02      1     1     11  2013      1    2        2\n",
       "2013-01-03      1     1     14  2013      1    3        3\n",
       "2013-01-04      1     1     13  2013      1    4        4\n",
       "2013-01-05      1     1     10  2013      1    5        5\n",
       "2013-01-06      1     1     12  2013      1    6        6\n",
       "2013-01-07      1     1     10  2013      1    7        0\n",
       "2013-01-08      1     1      9  2013      1    8        1\n",
       "2013-01-09      1     1     12  2013      1    9        2\n",
       "2013-01-10      1     1      9  2013      1   10        3\n",
       "2013-01-11      1     1      9  2013      1   11        4\n",
       "2013-01-12      1     1      7  2013      1   12        5\n",
       "2013-01-13      1     1     10  2013      1   13        6\n",
       "2013-01-14      1     1     12  2013      1   14        0\n",
       "2013-01-15      1     1      5  2013      1   15        1\n",
       "2013-01-16      1     1      7  2013      1   16        2\n",
       "2013-01-17      1     1     16  2013      1   17        3\n",
       "2013-01-18      1     1      7  2013      1   18        4\n",
       "2013-01-19      1     1     18  2013      1   19        5\n",
       "2013-01-20      1     1     15  2013      1   20        6"
      ]
     },
     "execution_count": 70,
     "metadata": {},
     "output_type": "execute_result"
    }
   ],
   "source": [
    "buf.head(20)"
   ]
  },
  {
   "cell_type": "code",
   "execution_count": null,
   "metadata": {},
   "outputs": [],
   "source": []
  }
 ],
 "metadata": {
  "kernelspec": {
   "display_name": "Python 3",
   "language": "python",
   "name": "python3"
  },
  "language_info": {
   "codemirror_mode": {
    "name": "ipython",
    "version": 3
   },
   "file_extension": ".py",
   "mimetype": "text/x-python",
   "name": "python",
   "nbconvert_exporter": "python",
   "pygments_lexer": "ipython3",
   "version": "3.7.4"
  }
 },
 "nbformat": 4,
 "nbformat_minor": 2
}
